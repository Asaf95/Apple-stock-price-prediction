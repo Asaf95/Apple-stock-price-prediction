{
  "nbformat": 4,
  "nbformat_minor": 0,
  "metadata": {
    "kernelspec": {
      "display_name": "Python 3",
      "language": "python",
      "name": "python3"
    },
    "language_info": {
      "codemirror_mode": {
        "name": "ipython",
        "version": 3
      },
      "file_extension": ".py",
      "mimetype": "text/x-python",
      "name": "python",
      "nbconvert_exporter": "python",
      "pygments_lexer": "ipython3",
      "version": "3.8.3"
    },
    "colab": {
      "name": "Copy of Dash-on-GGL-Colab.ipynb",
      "provenance": [],
      "collapsed_sections": [],
      "include_colab_link": true
    }
  },
  "cells": [
    {
      "cell_type": "markdown",
      "metadata": {
        "id": "view-in-github",
        "colab_type": "text"
      },
      "source": [
        "<a href=\"https://colab.research.google.com/github/Asaf95/Apple-stock-price-prediction/blob/Einav/Copy_of_Dash_on_GGL_Colab.ipynb\" target=\"_parent\"><img src=\"https://colab.research.google.com/assets/colab-badge.svg\" alt=\"Open In Colab\"/></a>"
      ]
    },
    {
      "cell_type": "code",
      "metadata": {
        "id": "tUr9aRGBLUGo",
        "colab": {
          "base_uri": "https://localhost:8080/"
        },
        "outputId": "1005633e-1308-4748-96e0-2be0ba419a4e"
      },
      "source": [
        "pip install -q dash==1.19.0"
      ],
      "execution_count": null,
      "outputs": [
        {
          "output_type": "stream",
          "name": "stdout",
          "text": [
            "\u001b[K     |████████████████████████████████| 75 kB 2.9 MB/s \n",
            "\u001b[K     |████████████████████████████████| 1.0 MB 16.3 MB/s \n",
            "\u001b[K     |████████████████████████████████| 3.5 MB 40.2 MB/s \n",
            "\u001b[K     |████████████████████████████████| 188 kB 55.7 MB/s \n",
            "\u001b[K     |████████████████████████████████| 1.8 MB 39.6 MB/s \n",
            "\u001b[K     |████████████████████████████████| 357 kB 74.4 MB/s \n",
            "\u001b[?25h  Building wheel for dash (setup.py) ... \u001b[?25l\u001b[?25hdone\n",
            "  Building wheel for dash-core-components (setup.py) ... \u001b[?25l\u001b[?25hdone\n",
            "  Building wheel for dash-html-components (setup.py) ... \u001b[?25l\u001b[?25hdone\n",
            "  Building wheel for dash-renderer (setup.py) ... \u001b[?25l\u001b[?25hdone\n",
            "  Building wheel for dash-table (setup.py) ... \u001b[?25l\u001b[?25hdone\n"
          ]
        }
      ]
    },
    {
      "cell_type": "code",
      "metadata": {
        "id": "w6w9vshALUGr",
        "colab": {
          "base_uri": "https://localhost:8080/"
        },
        "outputId": "db946566-9b99-4f36-9bf2-bc7eb344e2f6"
      },
      "source": [
        "pip install -q jupyter_dash==0.3.0"
      ],
      "execution_count": null,
      "outputs": [
        {
          "output_type": "stream",
          "name": "stdout",
          "text": [
            "\u001b[?25l\r\u001b[K     |██████▊                         | 10 kB 27.3 MB/s eta 0:00:01\r\u001b[K     |█████████████▍                  | 20 kB 33.7 MB/s eta 0:00:01\r\u001b[K     |████████████████████            | 30 kB 14.0 MB/s eta 0:00:01\r\u001b[K     |██████████████████████████▊     | 40 kB 6.3 MB/s eta 0:00:01\r\u001b[K     |████████████████████████████████| 49 kB 3.5 MB/s \n",
            "\u001b[?25h  Building wheel for retrying (setup.py) ... \u001b[?25l\u001b[?25hdone\n"
          ]
        }
      ]
    },
    {
      "cell_type": "code",
      "source": [
        "pip install -q dash-cytoscape"
      ],
      "metadata": {
        "id": "sHuLND3dDACx",
        "colab": {
          "base_uri": "https://localhost:8080/"
        },
        "outputId": "e735305b-8daa-47b7-9160-92f661074d82"
      },
      "execution_count": null,
      "outputs": [
        {
          "output_type": "stream",
          "name": "stdout",
          "text": [
            "\u001b[K     |████████████████████████████████| 3.6 MB 6.8 MB/s \n",
            "\u001b[?25h"
          ]
        }
      ]
    },
    {
      "cell_type": "code",
      "source": [
        "pip install jupyter-dash -q\n"
      ],
      "metadata": {
        "id": "a_DxxYCgx1RM"
      },
      "execution_count": null,
      "outputs": []
    },
    {
      "cell_type": "code",
      "source": [
        "pip install webbrowser"
      ],
      "metadata": {
        "id": "Vr7EAhnHAU8Y",
        "outputId": "08717e86-38d2-4093-d4ac-da3173af594f",
        "colab": {
          "base_uri": "https://localhost:8080/"
        }
      },
      "execution_count": null,
      "outputs": [
        {
          "output_type": "stream",
          "name": "stdout",
          "text": [
            "\u001b[31mERROR: Could not find a version that satisfies the requirement webbrowser (from versions: none)\u001b[0m\n",
            "\u001b[31mERROR: No matching distribution found for webbrowser\u001b[0m\n"
          ]
        }
      ]
    },
    {
      "cell_type": "code",
      "source": [
        "pip install dash-cytoscape -q\n"
      ],
      "metadata": {
        "id": "9riB1k_Sx2IL"
      },
      "execution_count": null,
      "outputs": []
    },
    {
      "cell_type": "code",
      "metadata": {
        "colab": {
          "base_uri": "https://localhost:8080/",
          "height": 52
        },
        "id": "3Xaqxhy8LUGs",
        "outputId": "d090df8d-9ac3-4372-e02e-062d9c5045b7"
      },
      "source": [
        "from jupyter_dash import JupyterDash  # pip install dash\n",
        "import dash_cytoscape as cyto  # pip install dash-cytoscape==0.2.0 or higher\n",
        "import dash_html_components as html\n",
        "import dash_core_components as dcc\n",
        "from dash.dependencies import Output, Input\n",
        "import pandas as pd  # pip install pandas\n",
        "import plotly.express as px\n",
        "import math\n",
        "from dash import no_update\n",
        "\n",
        "\n",
        "external_stylesheets = ['https://codepen.io/chriddyp/pen/bWLwgP.css']\n",
        "app = JupyterDash(__name__, external_stylesheets=external_stylesheets)\n",
        "\n",
        "df = pd.read_csv(\"https://raw.githubusercontent.com/Coding-with-Adam/Dash-by-Plotly/master/Cytoscape/org-data.csv\")\n",
        "\n",
        "app.layout = html.Div([\n",
        "    html.Div([\n",
        "        dcc.Dropdown(\n",
        "            id='dpdn',\n",
        "            value='breadthfirst',\n",
        "            clearable=False,\n",
        "            options=[\n",
        "                {'label': name.capitalize(), 'value': name}\n",
        "                for name in ['breadthfirst' ,'grid', 'random', 'circle', 'cose', 'concentric']\n",
        "            ]\n",
        "        ),\n",
        "        cyto.Cytoscape(\n",
        "            id='org-chart',\n",
        "            autoungrabify=True,\n",
        "            minZoom=0.2,\n",
        "            maxZoom=1,\n",
        "            layout={'name': 'breadthfirst'},\n",
        "            style={'width': '100%', 'height': '500px'},\n",
        "            elements=\n",
        "                [\n",
        "                    # Nodes elements\n",
        "                    {'data': {'id': x, 'label': x}} for x in df.name\n",
        "                ]\n",
        "                +\n",
        "                [\n",
        "                    # Edge elements\n",
        "                    {'data': {'source': 'Executive Director (Harriet)', 'target': 'Vice President (Sarah)'}},\n",
        "                    {'data': {'source': 'Executive Director (Harriet)', 'target': 'Vice President (Charlotte)'}},\n",
        "                    {'data': {'source': 'Vice President (Sarah)', 'target': 'Program Officer (Sojourner)'}},\n",
        "                    {'data': {'source': 'Vice President (Sarah)', 'target': 'Program Officer (Elizabeth)'}},\n",
        "                    {'data': {'source': 'Vice President (Charlotte)', 'target': 'Program Associate (Ellen)'}},\n",
        "                ]\n",
        "        )\n",
        "    ], className='six columns'),\n",
        "\n",
        "    html.Div([\n",
        "        html.Div(id='empty-div', children='')\n",
        "    ],className='one column'),\n",
        "\n",
        "    html.Div([\n",
        "        dcc.Graph(id='my-graph', figure=px.bar(df, x='name', y='slaves_freed'))\n",
        "    ], className='five columns'),\n",
        "\n",
        "], className='row')\n",
        "\n",
        "\n",
        "@app.callback(Output('org-chart', 'layout'),\n",
        "              Input('dpdn', 'value'))\n",
        "def update_layout(layout_value):\n",
        "    if layout_value == 'breadthfirst':\n",
        "        return {\n",
        "        'name': layout_value,\n",
        "        'roots': '[id = \"Executive Director (Harriet)\"]',\n",
        "        'animate': True\n",
        "        }\n",
        "    else:\n",
        "        return {\n",
        "            'name': layout_value,\n",
        "            'animate': True\n",
        "        }\n",
        "\n",
        "\n",
        "@app.callback(\n",
        "    Output('my-graph','figure'),\n",
        "    Input('org-chart','tapNodeData'),\n",
        ")\n",
        "def update_nodes(data):\n",
        "    if data is None:\n",
        "        return no_update\n",
        "    else:\n",
        "        dff = df.copy()\n",
        "        dff.loc[dff.name == data['label'], 'color'] = \"yellow\"\n",
        "        fig = px.bar(dff, x='name', y='slaves_freed')\n",
        "        fig.update_traces(marker={'color': dff['color']})\n",
        "        return fig\n",
        "\n",
        "\n",
        "#app.run_server(mode='inline', port=8030)\n",
        "app.run_server(debug=True)\n",
        "\n"
      ],
      "execution_count": null,
      "outputs": [
        {
          "output_type": "stream",
          "name": "stdout",
          "text": [
            "Dash app running on:\n"
          ]
        },
        {
          "output_type": "display_data",
          "data": {
            "text/plain": [
              "<IPython.core.display.Javascript object>"
            ],
            "application/javascript": [
              "(async (port, path, text, element) => {\n",
              "    if (!google.colab.kernel.accessAllowed) {\n",
              "      return;\n",
              "    }\n",
              "    element.appendChild(document.createTextNode(''));\n",
              "    const url = await google.colab.kernel.proxyPort(port);\n",
              "    const anchor = document.createElement('a');\n",
              "    anchor.href = new URL(path, url).toString();\n",
              "    anchor.target = '_blank';\n",
              "    anchor.setAttribute('data-href', url + path);\n",
              "    anchor.textContent = text;\n",
              "    element.appendChild(anchor);\n",
              "  })(8050, \"/\", \"http://127.0.0.1:8050/\", window.element)"
            ]
          },
          "metadata": {}
        }
      ]
    },
    {
      "cell_type": "code",
      "metadata": {
        "id": "uP6IZ8RnLUGu",
        "outputId": "7bcbffee-7d79-4e2c-966d-0296a4af5b5e",
        "colab": {
          "base_uri": "https://localhost:8080/",
          "height": 52
        }
      },
      "source": [
        "app.run_server(debug=True)\n"
      ],
      "execution_count": null,
      "outputs": [
        {
          "output_type": "stream",
          "name": "stdout",
          "text": [
            "Dash app running on:\n"
          ]
        },
        {
          "output_type": "display_data",
          "data": {
            "text/plain": [
              "<IPython.core.display.Javascript object>"
            ],
            "application/javascript": [
              "(async (port, path, text, element) => {\n",
              "    if (!google.colab.kernel.accessAllowed) {\n",
              "      return;\n",
              "    }\n",
              "    element.appendChild(document.createTextNode(''));\n",
              "    const url = await google.colab.kernel.proxyPort(port);\n",
              "    const anchor = document.createElement('a');\n",
              "    anchor.href = new URL(path, url).toString();\n",
              "    anchor.target = '_blank';\n",
              "    anchor.setAttribute('data-href', url + path);\n",
              "    anchor.textContent = text;\n",
              "    element.appendChild(anchor);\n",
              "  })(8050, \"/\", \"http://127.0.0.1:8050/\", window.element)"
            ]
          },
          "metadata": {}
        }
      ]
    }
  ]
}