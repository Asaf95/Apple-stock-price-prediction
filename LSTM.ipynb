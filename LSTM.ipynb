{
  "cells": [
    {
      "cell_type": "markdown",
      "metadata": {
        "id": "view-in-github",
        "colab_type": "text"
      },
      "source": [
        "<a href=\"https://colab.research.google.com/github/Asaf95/Apple-stock-price-prediction/blob/with_ui_a/LSTM.ipynb\" target=\"_parent\"><img src=\"https://colab.research.google.com/assets/colab-badge.svg\" alt=\"Open In Colab\"/></a>"
      ]
    },
    {
      "cell_type": "markdown",
      "source": [
        "# New Section"
      ],
      "metadata": {
        "id": "BhulkgTh5pK6"
      }
    },
    {
      "cell_type": "code",
      "execution_count": null,
      "metadata": {
        "id": "yUajF0zx2Noq"
      },
      "outputs": [],
      "source": [
        "# dataset @ https://finance.yahoo.com/quote/MSFT/history/\n",
        "\n",
        "# If you want the exact same dataset as the YouTube video,\n",
        "# use this link: https://drive.google.com/file/d/1WLm1AEYgU28Nk4lY4zNkGPSctdImbhJI/view?usp=sharing"
      ]
    },
    {
      "cell_type": "code",
      "execution_count": 1,
      "metadata": {
        "colab": {
          "base_uri": "https://localhost:8080/"
        },
        "id": "-U7-YqAxb1ES",
        "outputId": "214ee0e1-918a-4dc9-aa56-ce6d85fbad49"
      },
      "outputs": [
        {
          "output_type": "stream",
          "name": "stdout",
          "text": [
            "Mounted at /content/drive\n"
          ]
        }
      ],
      "source": [
        "import pandas as pd\n",
        "import pandas as pd\n",
        "import numpy as np\n",
        "import matplotlib.pyplot as plt\n",
        "from google.colab import drive\n",
        "drive.mount('/content/drive')"
      ]
    },
    {
      "cell_type": "code",
      "execution_count": 3,
      "metadata": {
        "colab": {
          "base_uri": "https://localhost:8080/",
          "height": 424
        },
        "id": "PSIHfWL23fBi",
        "outputId": "c09c977b-7a83-43e2-d92b-552474972fdb"
      },
      "outputs": [
        {
          "output_type": "execute_result",
          "data": {
            "text/plain": [
              "            date  1. open  2. high  3. low  4. close   5. volume\n",
              "0     2022-03-28   172.17   175.73  172.00    175.60  90371916.0\n",
              "1     2022-03-25   173.88   175.28  172.75    174.72  80281664.0\n",
              "2     2022-03-24   171.06   174.14  170.21    174.07  90131418.0\n",
              "3     2022-03-23   167.99   172.64  167.65    170.21  98062674.0\n",
              "4     2022-03-22   165.51   169.42  164.91    168.82  80979755.0\n",
              "...          ...      ...      ...     ...       ...         ...\n",
              "5633  1999-11-05    84.62    88.37   84.00     88.31   3721500.0\n",
              "5634  1999-11-04    82.06    85.37   80.62     83.62   3384700.0\n",
              "5635  1999-11-03    81.62    83.25   81.00     81.50   2932700.0\n",
              "5636  1999-11-02    78.00    81.69   77.31     80.25   3564600.0\n",
              "5637  1999-11-01    80.00    80.69   77.37     77.62   2487300.0\n",
              "\n",
              "[5638 rows x 6 columns]"
            ],
            "text/html": [
              "\n",
              "  <div id=\"df-c8ce3fbc-8d46-44ba-9732-dc58183b5ab0\">\n",
              "    <div class=\"colab-df-container\">\n",
              "      <div>\n",
              "<style scoped>\n",
              "    .dataframe tbody tr th:only-of-type {\n",
              "        vertical-align: middle;\n",
              "    }\n",
              "\n",
              "    .dataframe tbody tr th {\n",
              "        vertical-align: top;\n",
              "    }\n",
              "\n",
              "    .dataframe thead th {\n",
              "        text-align: right;\n",
              "    }\n",
              "</style>\n",
              "<table border=\"1\" class=\"dataframe\">\n",
              "  <thead>\n",
              "    <tr style=\"text-align: right;\">\n",
              "      <th></th>\n",
              "      <th>date</th>\n",
              "      <th>1. open</th>\n",
              "      <th>2. high</th>\n",
              "      <th>3. low</th>\n",
              "      <th>4. close</th>\n",
              "      <th>5. volume</th>\n",
              "    </tr>\n",
              "  </thead>\n",
              "  <tbody>\n",
              "    <tr>\n",
              "      <th>0</th>\n",
              "      <td>2022-03-28</td>\n",
              "      <td>172.17</td>\n",
              "      <td>175.73</td>\n",
              "      <td>172.00</td>\n",
              "      <td>175.60</td>\n",
              "      <td>90371916.0</td>\n",
              "    </tr>\n",
              "    <tr>\n",
              "      <th>1</th>\n",
              "      <td>2022-03-25</td>\n",
              "      <td>173.88</td>\n",
              "      <td>175.28</td>\n",
              "      <td>172.75</td>\n",
              "      <td>174.72</td>\n",
              "      <td>80281664.0</td>\n",
              "    </tr>\n",
              "    <tr>\n",
              "      <th>2</th>\n",
              "      <td>2022-03-24</td>\n",
              "      <td>171.06</td>\n",
              "      <td>174.14</td>\n",
              "      <td>170.21</td>\n",
              "      <td>174.07</td>\n",
              "      <td>90131418.0</td>\n",
              "    </tr>\n",
              "    <tr>\n",
              "      <th>3</th>\n",
              "      <td>2022-03-23</td>\n",
              "      <td>167.99</td>\n",
              "      <td>172.64</td>\n",
              "      <td>167.65</td>\n",
              "      <td>170.21</td>\n",
              "      <td>98062674.0</td>\n",
              "    </tr>\n",
              "    <tr>\n",
              "      <th>4</th>\n",
              "      <td>2022-03-22</td>\n",
              "      <td>165.51</td>\n",
              "      <td>169.42</td>\n",
              "      <td>164.91</td>\n",
              "      <td>168.82</td>\n",
              "      <td>80979755.0</td>\n",
              "    </tr>\n",
              "    <tr>\n",
              "      <th>...</th>\n",
              "      <td>...</td>\n",
              "      <td>...</td>\n",
              "      <td>...</td>\n",
              "      <td>...</td>\n",
              "      <td>...</td>\n",
              "      <td>...</td>\n",
              "    </tr>\n",
              "    <tr>\n",
              "      <th>5633</th>\n",
              "      <td>1999-11-05</td>\n",
              "      <td>84.62</td>\n",
              "      <td>88.37</td>\n",
              "      <td>84.00</td>\n",
              "      <td>88.31</td>\n",
              "      <td>3721500.0</td>\n",
              "    </tr>\n",
              "    <tr>\n",
              "      <th>5634</th>\n",
              "      <td>1999-11-04</td>\n",
              "      <td>82.06</td>\n",
              "      <td>85.37</td>\n",
              "      <td>80.62</td>\n",
              "      <td>83.62</td>\n",
              "      <td>3384700.0</td>\n",
              "    </tr>\n",
              "    <tr>\n",
              "      <th>5635</th>\n",
              "      <td>1999-11-03</td>\n",
              "      <td>81.62</td>\n",
              "      <td>83.25</td>\n",
              "      <td>81.00</td>\n",
              "      <td>81.50</td>\n",
              "      <td>2932700.0</td>\n",
              "    </tr>\n",
              "    <tr>\n",
              "      <th>5636</th>\n",
              "      <td>1999-11-02</td>\n",
              "      <td>78.00</td>\n",
              "      <td>81.69</td>\n",
              "      <td>77.31</td>\n",
              "      <td>80.25</td>\n",
              "      <td>3564600.0</td>\n",
              "    </tr>\n",
              "    <tr>\n",
              "      <th>5637</th>\n",
              "      <td>1999-11-01</td>\n",
              "      <td>80.00</td>\n",
              "      <td>80.69</td>\n",
              "      <td>77.37</td>\n",
              "      <td>77.62</td>\n",
              "      <td>2487300.0</td>\n",
              "    </tr>\n",
              "  </tbody>\n",
              "</table>\n",
              "<p>5638 rows × 6 columns</p>\n",
              "</div>\n",
              "      <button class=\"colab-df-convert\" onclick=\"convertToInteractive('df-c8ce3fbc-8d46-44ba-9732-dc58183b5ab0')\"\n",
              "              title=\"Convert this dataframe to an interactive table.\"\n",
              "              style=\"display:none;\">\n",
              "        \n",
              "  <svg xmlns=\"http://www.w3.org/2000/svg\" height=\"24px\"viewBox=\"0 0 24 24\"\n",
              "       width=\"24px\">\n",
              "    <path d=\"M0 0h24v24H0V0z\" fill=\"none\"/>\n",
              "    <path d=\"M18.56 5.44l.94 2.06.94-2.06 2.06-.94-2.06-.94-.94-2.06-.94 2.06-2.06.94zm-11 1L8.5 8.5l.94-2.06 2.06-.94-2.06-.94L8.5 2.5l-.94 2.06-2.06.94zm10 10l.94 2.06.94-2.06 2.06-.94-2.06-.94-.94-2.06-.94 2.06-2.06.94z\"/><path d=\"M17.41 7.96l-1.37-1.37c-.4-.4-.92-.59-1.43-.59-.52 0-1.04.2-1.43.59L10.3 9.45l-7.72 7.72c-.78.78-.78 2.05 0 2.83L4 21.41c.39.39.9.59 1.41.59.51 0 1.02-.2 1.41-.59l7.78-7.78 2.81-2.81c.8-.78.8-2.07 0-2.86zM5.41 20L4 18.59l7.72-7.72 1.47 1.35L5.41 20z\"/>\n",
              "  </svg>\n",
              "      </button>\n",
              "      \n",
              "  <style>\n",
              "    .colab-df-container {\n",
              "      display:flex;\n",
              "      flex-wrap:wrap;\n",
              "      gap: 12px;\n",
              "    }\n",
              "\n",
              "    .colab-df-convert {\n",
              "      background-color: #E8F0FE;\n",
              "      border: none;\n",
              "      border-radius: 50%;\n",
              "      cursor: pointer;\n",
              "      display: none;\n",
              "      fill: #1967D2;\n",
              "      height: 32px;\n",
              "      padding: 0 0 0 0;\n",
              "      width: 32px;\n",
              "    }\n",
              "\n",
              "    .colab-df-convert:hover {\n",
              "      background-color: #E2EBFA;\n",
              "      box-shadow: 0px 1px 2px rgba(60, 64, 67, 0.3), 0px 1px 3px 1px rgba(60, 64, 67, 0.15);\n",
              "      fill: #174EA6;\n",
              "    }\n",
              "\n",
              "    [theme=dark] .colab-df-convert {\n",
              "      background-color: #3B4455;\n",
              "      fill: #D2E3FC;\n",
              "    }\n",
              "\n",
              "    [theme=dark] .colab-df-convert:hover {\n",
              "      background-color: #434B5C;\n",
              "      box-shadow: 0px 1px 3px 1px rgba(0, 0, 0, 0.15);\n",
              "      filter: drop-shadow(0px 1px 2px rgba(0, 0, 0, 0.3));\n",
              "      fill: #FFFFFF;\n",
              "    }\n",
              "  </style>\n",
              "\n",
              "      <script>\n",
              "        const buttonEl =\n",
              "          document.querySelector('#df-c8ce3fbc-8d46-44ba-9732-dc58183b5ab0 button.colab-df-convert');\n",
              "        buttonEl.style.display =\n",
              "          google.colab.kernel.accessAllowed ? 'block' : 'none';\n",
              "\n",
              "        async function convertToInteractive(key) {\n",
              "          const element = document.querySelector('#df-c8ce3fbc-8d46-44ba-9732-dc58183b5ab0');\n",
              "          const dataTable =\n",
              "            await google.colab.kernel.invokeFunction('convertToInteractive',\n",
              "                                                     [key], {});\n",
              "          if (!dataTable) return;\n",
              "\n",
              "          const docLinkHtml = 'Like what you see? Visit the ' +\n",
              "            '<a target=\"_blank\" href=https://colab.research.google.com/notebooks/data_table.ipynb>data table notebook</a>'\n",
              "            + ' to learn more about interactive tables.';\n",
              "          element.innerHTML = '';\n",
              "          dataTable['output_type'] = 'display_data';\n",
              "          await google.colab.output.renderOutput(dataTable, element);\n",
              "          const docLink = document.createElement('div');\n",
              "          docLink.innerHTML = docLinkHtml;\n",
              "          element.appendChild(docLink);\n",
              "        }\n",
              "      </script>\n",
              "    </div>\n",
              "  </div>\n",
              "  "
            ]
          },
          "metadata": {},
          "execution_count": 3
        }
      ],
      "source": [
        "import pandas as pd\n",
        "\n",
        "df = pd.read_csv(\"/content/drive/MyDrive/Data-Mi/Project_2/DATA/data.csv\")\n",
        "#df = pd.read_csv(data, encoding = \"ISO-8859-1\")\n",
        "df = pd.DataFrame(df)\n",
        "\n",
        "df"
      ]
    },
    {
      "cell_type": "markdown",
      "source": [
        ""
      ],
      "metadata": {
        "id": "vBOBqN0rMr1e"
      }
    },
    {
      "cell_type": "code",
      "source": [
        "from datetime import datetime\n",
        "df['date'] = df.apply(lambda x: pd.to_datetime(x['date'], format = '%Y-%m-%d') ,axis=1)\n"
      ],
      "metadata": {
        "id": "bRpEMTmlMsjo"
      },
      "execution_count": 4,
      "outputs": []
    },
    {
      "cell_type": "code",
      "execution_count": 5,
      "metadata": {
        "colab": {
          "base_uri": "https://localhost:8080/",
          "height": 52
        },
        "id": "TXNPhLYaMFEJ",
        "outputId": "7b6023e4-e34b-44f4-dce3-1c52a6adf4f3"
      },
      "outputs": [
        {
          "output_type": "execute_result",
          "data": {
            "text/plain": [
              "'\\nfor key, value in thisdict.items():\\n  print(key, \\' and \\', value)\\n  #apply_stock_split1(key, value)\\n    #apply_stock_split1(4,\"2020-09-02\")\\n'"
            ],
            "application/vnd.google.colaboratory.intrinsic+json": {
              "type": "string"
            }
          },
          "metadata": {},
          "execution_count": 5
        }
      ],
      "source": [
        "def apply_stock_split1(number, date):\n",
        "  list_of_columns = ['high', 'low','close','open']\n",
        "  list_of_columns1 = ['volume']\n",
        "  for item in list_of_columns:\n",
        "    df['temp'] = df[(df['date'] < date)][item].div(number)\n",
        "    df['temp2'] = df['temp'].fillna(df[item])\n",
        "    df[item] = df['temp2']\n",
        "    \n",
        "  df['temp'] = df[(df['date'] < date)]['volume'].div(1/number)\n",
        "  df['temp2'] = df['temp'].fillna(df['volume'])\n",
        "  df['volume'] = df['temp2']\n",
        "      # Add a temp value to store tha colounm values temperery.\n",
        "      #only if the new value is not NaN replace it with the real value for that row\n",
        "thisdict = {\n",
        "  \"2020-08-31\": 4,\n",
        "  \"2014-06-9\": 7,\n",
        "  \"2005-02-28\": 2,\n",
        "  \"2000-06-21\":2,\n",
        "  \"1987-06-16\":2\n",
        "}\n",
        "\n",
        "\n",
        "\"\"\"\n",
        "for key, value in thisdict.items():\n",
        "  print(key, ' and ', value)\n",
        "  #apply_stock_split1(key, value)\n",
        "    #apply_stock_split1(4,\"2020-09-02\")\n",
        "\"\"\""
      ]
    },
    {
      "cell_type": "code",
      "execution_count": 6,
      "metadata": {
        "id": "3I6ju2n83jGq"
      },
      "outputs": [],
      "source": [
        "df_analysis = df.copy()"
      ]
    },
    {
      "cell_type": "code",
      "source": [
        "df_1999_2009 = df_analysis[(df_analysis['date'] <  \"2009-01-1\")].copy()\n",
        "df_2009_2022 = df_analysis[(df_analysis['date'] >  \"2009-01-1\")].copy()\n"
      ],
      "metadata": {
        "id": "39Us9G1SThGU"
      },
      "execution_count": 7,
      "outputs": []
    },
    {
      "cell_type": "markdown",
      "source": [
        "##Data Analysis"
      ],
      "metadata": {
        "id": "aK7EaQ4NNEfL"
      }
    },
    {
      "cell_type": "markdown",
      "source": [
        "By the graph, we see that between the years 2008-2009 the stock value has down."
      ],
      "metadata": {
        "id": "VsleaImYauEh"
      }
    },
    {
      "cell_type": "code",
      "execution_count": null,
      "metadata": {
        "colab": {
          "base_uri": "https://localhost:8080/",
          "height": 502
        },
        "id": "fCNhH5qH6Fc3",
        "outputId": "3e77e43a-a93e-4dcb-a517-9c4ba6e5999b"
      },
      "outputs": [
        {
          "output_type": "error",
          "ename": "KeyError",
          "evalue": "ignored",
          "traceback": [
            "\u001b[0;31m---------------------------------------------------------------------------\u001b[0m",
            "\u001b[0;31mKeyError\u001b[0m                                  Traceback (most recent call last)",
            "\u001b[0;32m/usr/local/lib/python3.7/dist-packages/pandas/core/indexes/base.py\u001b[0m in \u001b[0;36mget_loc\u001b[0;34m(self, key, method, tolerance)\u001b[0m\n\u001b[1;32m   3360\u001b[0m             \u001b[0;32mtry\u001b[0m\u001b[0;34m:\u001b[0m\u001b[0;34m\u001b[0m\u001b[0;34m\u001b[0m\u001b[0m\n\u001b[0;32m-> 3361\u001b[0;31m                 \u001b[0;32mreturn\u001b[0m \u001b[0mself\u001b[0m\u001b[0;34m.\u001b[0m\u001b[0m_engine\u001b[0m\u001b[0;34m.\u001b[0m\u001b[0mget_loc\u001b[0m\u001b[0;34m(\u001b[0m\u001b[0mcasted_key\u001b[0m\u001b[0;34m)\u001b[0m\u001b[0;34m\u001b[0m\u001b[0;34m\u001b[0m\u001b[0m\n\u001b[0m\u001b[1;32m   3362\u001b[0m             \u001b[0;32mexcept\u001b[0m \u001b[0mKeyError\u001b[0m \u001b[0;32mas\u001b[0m \u001b[0merr\u001b[0m\u001b[0;34m:\u001b[0m\u001b[0;34m\u001b[0m\u001b[0;34m\u001b[0m\u001b[0m\n",
            "\u001b[0;32m/usr/local/lib/python3.7/dist-packages/pandas/_libs/index.pyx\u001b[0m in \u001b[0;36mpandas._libs.index.IndexEngine.get_loc\u001b[0;34m()\u001b[0m\n",
            "\u001b[0;32m/usr/local/lib/python3.7/dist-packages/pandas/_libs/index.pyx\u001b[0m in \u001b[0;36mpandas._libs.index.IndexEngine.get_loc\u001b[0;34m()\u001b[0m\n",
            "\u001b[0;32mpandas/_libs/hashtable_class_helper.pxi\u001b[0m in \u001b[0;36mpandas._libs.hashtable.PyObjectHashTable.get_item\u001b[0;34m()\u001b[0m\n",
            "\u001b[0;32mpandas/_libs/hashtable_class_helper.pxi\u001b[0m in \u001b[0;36mpandas._libs.hashtable.PyObjectHashTable.get_item\u001b[0;34m()\u001b[0m\n",
            "\u001b[0;31mKeyError\u001b[0m: 'date'",
            "\nThe above exception was the direct cause of the following exception:\n",
            "\u001b[0;31mKeyError\u001b[0m                                  Traceback (most recent call last)",
            "\u001b[0;32m<ipython-input-29-c3ff0afd92d3>\u001b[0m in \u001b[0;36m<module>\u001b[0;34m()\u001b[0m\n\u001b[1;32m      1\u001b[0m \u001b[0;32mimport\u001b[0m \u001b[0mmatplotlib\u001b[0m\u001b[0;34m.\u001b[0m\u001b[0mpyplot\u001b[0m \u001b[0;32mas\u001b[0m \u001b[0mplt\u001b[0m\u001b[0;34m\u001b[0m\u001b[0;34m\u001b[0m\u001b[0m\n\u001b[0;32m----> 2\u001b[0;31m \u001b[0mdf\u001b[0m\u001b[0;34m.\u001b[0m\u001b[0mpop\u001b[0m\u001b[0;34m(\u001b[0m\u001b[0;34m'date'\u001b[0m\u001b[0;34m)\u001b[0m\u001b[0;34m\u001b[0m\u001b[0;34m\u001b[0m\u001b[0m\n\u001b[0m\u001b[1;32m      3\u001b[0m \u001b[0mdf\u001b[0m\u001b[0;34m.\u001b[0m\u001b[0mindex\u001b[0m\u001b[0;34m.\u001b[0m\u001b[0mpop\u001b[0m\u001b[0;34m(\u001b[0m\u001b[0;34m'date'\u001b[0m\u001b[0;34m)\u001b[0m\u001b[0;34m\u001b[0m\u001b[0;34m\u001b[0m\u001b[0m\n\u001b[1;32m      4\u001b[0m \u001b[0;31m#plt.plot(df.index, df['close'])\u001b[0m\u001b[0;34m\u001b[0m\u001b[0;34m\u001b[0m\u001b[0;34m\u001b[0m\u001b[0m\n",
            "\u001b[0;32m/usr/local/lib/python3.7/dist-packages/pandas/core/frame.py\u001b[0m in \u001b[0;36mpop\u001b[0;34m(self, item)\u001b[0m\n\u001b[1;32m   5224\u001b[0m         \u001b[0;36m3\u001b[0m  \u001b[0mmonkey\u001b[0m        \u001b[0mNaN\u001b[0m\u001b[0;34m\u001b[0m\u001b[0;34m\u001b[0m\u001b[0m\n\u001b[1;32m   5225\u001b[0m         \"\"\"\n\u001b[0;32m-> 5226\u001b[0;31m         \u001b[0;32mreturn\u001b[0m \u001b[0msuper\u001b[0m\u001b[0;34m(\u001b[0m\u001b[0;34m)\u001b[0m\u001b[0;34m.\u001b[0m\u001b[0mpop\u001b[0m\u001b[0;34m(\u001b[0m\u001b[0mitem\u001b[0m\u001b[0;34m=\u001b[0m\u001b[0mitem\u001b[0m\u001b[0;34m)\u001b[0m\u001b[0;34m\u001b[0m\u001b[0;34m\u001b[0m\u001b[0m\n\u001b[0m\u001b[1;32m   5227\u001b[0m \u001b[0;34m\u001b[0m\u001b[0m\n\u001b[1;32m   5228\u001b[0m     \u001b[0;34m@\u001b[0m\u001b[0mdoc\u001b[0m\u001b[0;34m(\u001b[0m\u001b[0mNDFrame\u001b[0m\u001b[0;34m.\u001b[0m\u001b[0mreplace\u001b[0m\u001b[0;34m,\u001b[0m \u001b[0;34m**\u001b[0m\u001b[0m_shared_doc_kwargs\u001b[0m\u001b[0;34m)\u001b[0m\u001b[0;34m\u001b[0m\u001b[0;34m\u001b[0m\u001b[0m\n",
            "\u001b[0;32m/usr/local/lib/python3.7/dist-packages/pandas/core/generic.py\u001b[0m in \u001b[0;36mpop\u001b[0;34m(self, item)\u001b[0m\n\u001b[1;32m    868\u001b[0m \u001b[0;34m\u001b[0m\u001b[0m\n\u001b[1;32m    869\u001b[0m     \u001b[0;32mdef\u001b[0m \u001b[0mpop\u001b[0m\u001b[0;34m(\u001b[0m\u001b[0mself\u001b[0m\u001b[0;34m,\u001b[0m \u001b[0mitem\u001b[0m\u001b[0;34m:\u001b[0m \u001b[0mHashable\u001b[0m\u001b[0;34m)\u001b[0m \u001b[0;34m->\u001b[0m \u001b[0mSeries\u001b[0m \u001b[0;34m|\u001b[0m \u001b[0mAny\u001b[0m\u001b[0;34m:\u001b[0m\u001b[0;34m\u001b[0m\u001b[0;34m\u001b[0m\u001b[0m\n\u001b[0;32m--> 870\u001b[0;31m         \u001b[0mresult\u001b[0m \u001b[0;34m=\u001b[0m \u001b[0mself\u001b[0m\u001b[0;34m[\u001b[0m\u001b[0mitem\u001b[0m\u001b[0;34m]\u001b[0m\u001b[0;34m\u001b[0m\u001b[0;34m\u001b[0m\u001b[0m\n\u001b[0m\u001b[1;32m    871\u001b[0m         \u001b[0;32mdel\u001b[0m \u001b[0mself\u001b[0m\u001b[0;34m[\u001b[0m\u001b[0mitem\u001b[0m\u001b[0;34m]\u001b[0m\u001b[0;34m\u001b[0m\u001b[0;34m\u001b[0m\u001b[0m\n\u001b[1;32m    872\u001b[0m \u001b[0;34m\u001b[0m\u001b[0m\n",
            "\u001b[0;32m/usr/local/lib/python3.7/dist-packages/pandas/core/frame.py\u001b[0m in \u001b[0;36m__getitem__\u001b[0;34m(self, key)\u001b[0m\n\u001b[1;32m   3456\u001b[0m             \u001b[0;32mif\u001b[0m \u001b[0mself\u001b[0m\u001b[0;34m.\u001b[0m\u001b[0mcolumns\u001b[0m\u001b[0;34m.\u001b[0m\u001b[0mnlevels\u001b[0m \u001b[0;34m>\u001b[0m \u001b[0;36m1\u001b[0m\u001b[0;34m:\u001b[0m\u001b[0;34m\u001b[0m\u001b[0;34m\u001b[0m\u001b[0m\n\u001b[1;32m   3457\u001b[0m                 \u001b[0;32mreturn\u001b[0m \u001b[0mself\u001b[0m\u001b[0;34m.\u001b[0m\u001b[0m_getitem_multilevel\u001b[0m\u001b[0;34m(\u001b[0m\u001b[0mkey\u001b[0m\u001b[0;34m)\u001b[0m\u001b[0;34m\u001b[0m\u001b[0;34m\u001b[0m\u001b[0m\n\u001b[0;32m-> 3458\u001b[0;31m             \u001b[0mindexer\u001b[0m \u001b[0;34m=\u001b[0m \u001b[0mself\u001b[0m\u001b[0;34m.\u001b[0m\u001b[0mcolumns\u001b[0m\u001b[0;34m.\u001b[0m\u001b[0mget_loc\u001b[0m\u001b[0;34m(\u001b[0m\u001b[0mkey\u001b[0m\u001b[0;34m)\u001b[0m\u001b[0;34m\u001b[0m\u001b[0;34m\u001b[0m\u001b[0m\n\u001b[0m\u001b[1;32m   3459\u001b[0m             \u001b[0;32mif\u001b[0m \u001b[0mis_integer\u001b[0m\u001b[0;34m(\u001b[0m\u001b[0mindexer\u001b[0m\u001b[0;34m)\u001b[0m\u001b[0;34m:\u001b[0m\u001b[0;34m\u001b[0m\u001b[0;34m\u001b[0m\u001b[0m\n\u001b[1;32m   3460\u001b[0m                 \u001b[0mindexer\u001b[0m \u001b[0;34m=\u001b[0m \u001b[0;34m[\u001b[0m\u001b[0mindexer\u001b[0m\u001b[0;34m]\u001b[0m\u001b[0;34m\u001b[0m\u001b[0;34m\u001b[0m\u001b[0m\n",
            "\u001b[0;32m/usr/local/lib/python3.7/dist-packages/pandas/core/indexes/base.py\u001b[0m in \u001b[0;36mget_loc\u001b[0;34m(self, key, method, tolerance)\u001b[0m\n\u001b[1;32m   3361\u001b[0m                 \u001b[0;32mreturn\u001b[0m \u001b[0mself\u001b[0m\u001b[0;34m.\u001b[0m\u001b[0m_engine\u001b[0m\u001b[0;34m.\u001b[0m\u001b[0mget_loc\u001b[0m\u001b[0;34m(\u001b[0m\u001b[0mcasted_key\u001b[0m\u001b[0;34m)\u001b[0m\u001b[0;34m\u001b[0m\u001b[0;34m\u001b[0m\u001b[0m\n\u001b[1;32m   3362\u001b[0m             \u001b[0;32mexcept\u001b[0m \u001b[0mKeyError\u001b[0m \u001b[0;32mas\u001b[0m \u001b[0merr\u001b[0m\u001b[0;34m:\u001b[0m\u001b[0;34m\u001b[0m\u001b[0;34m\u001b[0m\u001b[0m\n\u001b[0;32m-> 3363\u001b[0;31m                 \u001b[0;32mraise\u001b[0m \u001b[0mKeyError\u001b[0m\u001b[0;34m(\u001b[0m\u001b[0mkey\u001b[0m\u001b[0;34m)\u001b[0m \u001b[0;32mfrom\u001b[0m \u001b[0merr\u001b[0m\u001b[0;34m\u001b[0m\u001b[0;34m\u001b[0m\u001b[0m\n\u001b[0m\u001b[1;32m   3364\u001b[0m \u001b[0;34m\u001b[0m\u001b[0m\n\u001b[1;32m   3365\u001b[0m         \u001b[0;32mif\u001b[0m \u001b[0mis_scalar\u001b[0m\u001b[0;34m(\u001b[0m\u001b[0mkey\u001b[0m\u001b[0;34m)\u001b[0m \u001b[0;32mand\u001b[0m \u001b[0misna\u001b[0m\u001b[0;34m(\u001b[0m\u001b[0mkey\u001b[0m\u001b[0;34m)\u001b[0m \u001b[0;32mand\u001b[0m \u001b[0;32mnot\u001b[0m \u001b[0mself\u001b[0m\u001b[0;34m.\u001b[0m\u001b[0mhasnans\u001b[0m\u001b[0;34m:\u001b[0m\u001b[0;34m\u001b[0m\u001b[0;34m\u001b[0m\u001b[0m\n",
            "\u001b[0;31mKeyError\u001b[0m: 'date'"
          ]
        }
      ],
      "source": [
        "import matplotlib.pyplot as plt\n",
        "df.pop('date')\n",
        "גכdf.index.pop('date')\n",
        "#plt.plot(df.index, df['close'])"
      ]
    },
    {
      "cell_type": "code",
      "source": [
        "list_of_columns_analysis = [\"open\",\t\"high\",\t\"low\",\t\"close\",\t\"volume\"]\n",
        "\n",
        "for item in list_of_columns_analysis:\n",
        "  plt.plot(df.index, df[item])\n",
        "  plt.legend(item)\n",
        "  plt.show()\n"
      ],
      "metadata": {
        "id": "m9uQG31lNPcM",
        "colab": {
          "base_uri": "https://localhost:8080/",
          "height": 502
        },
        "outputId": "049c6c28-3344-41c6-b05d-c6b4b277ee60"
      },
      "execution_count": null,
      "outputs": [
        {
          "output_type": "error",
          "ename": "KeyError",
          "evalue": "ignored",
          "traceback": [
            "\u001b[0;31m---------------------------------------------------------------------------\u001b[0m",
            "\u001b[0;31mKeyError\u001b[0m                                  Traceback (most recent call last)",
            "\u001b[0;32m/usr/local/lib/python3.7/dist-packages/pandas/core/indexes/base.py\u001b[0m in \u001b[0;36mget_loc\u001b[0;34m(self, key, method, tolerance)\u001b[0m\n\u001b[1;32m   3360\u001b[0m             \u001b[0;32mtry\u001b[0m\u001b[0;34m:\u001b[0m\u001b[0;34m\u001b[0m\u001b[0;34m\u001b[0m\u001b[0m\n\u001b[0;32m-> 3361\u001b[0;31m                 \u001b[0;32mreturn\u001b[0m \u001b[0mself\u001b[0m\u001b[0;34m.\u001b[0m\u001b[0m_engine\u001b[0m\u001b[0;34m.\u001b[0m\u001b[0mget_loc\u001b[0m\u001b[0;34m(\u001b[0m\u001b[0mcasted_key\u001b[0m\u001b[0;34m)\u001b[0m\u001b[0;34m\u001b[0m\u001b[0;34m\u001b[0m\u001b[0m\n\u001b[0m\u001b[1;32m   3362\u001b[0m             \u001b[0;32mexcept\u001b[0m \u001b[0mKeyError\u001b[0m \u001b[0;32mas\u001b[0m \u001b[0merr\u001b[0m\u001b[0;34m:\u001b[0m\u001b[0;34m\u001b[0m\u001b[0;34m\u001b[0m\u001b[0m\n",
            "\u001b[0;32m/usr/local/lib/python3.7/dist-packages/pandas/_libs/index.pyx\u001b[0m in \u001b[0;36mpandas._libs.index.IndexEngine.get_loc\u001b[0;34m()\u001b[0m\n",
            "\u001b[0;32m/usr/local/lib/python3.7/dist-packages/pandas/_libs/index.pyx\u001b[0m in \u001b[0;36mpandas._libs.index.IndexEngine.get_loc\u001b[0;34m()\u001b[0m\n",
            "\u001b[0;32mpandas/_libs/hashtable_class_helper.pxi\u001b[0m in \u001b[0;36mpandas._libs.hashtable.PyObjectHashTable.get_item\u001b[0;34m()\u001b[0m\n",
            "\u001b[0;32mpandas/_libs/hashtable_class_helper.pxi\u001b[0m in \u001b[0;36mpandas._libs.hashtable.PyObjectHashTable.get_item\u001b[0;34m()\u001b[0m\n",
            "\u001b[0;31mKeyError\u001b[0m: 'open'",
            "\nThe above exception was the direct cause of the following exception:\n",
            "\u001b[0;31mKeyError\u001b[0m                                  Traceback (most recent call last)",
            "\u001b[0;32m<ipython-input-10-70a9228ce051>\u001b[0m in \u001b[0;36m<module>\u001b[0;34m()\u001b[0m\n\u001b[1;32m      2\u001b[0m \u001b[0;34m\u001b[0m\u001b[0m\n\u001b[1;32m      3\u001b[0m \u001b[0;32mfor\u001b[0m \u001b[0mitem\u001b[0m \u001b[0;32min\u001b[0m \u001b[0mlist_of_columns_analysis\u001b[0m\u001b[0;34m:\u001b[0m\u001b[0;34m\u001b[0m\u001b[0;34m\u001b[0m\u001b[0m\n\u001b[0;32m----> 4\u001b[0;31m   \u001b[0mplt\u001b[0m\u001b[0;34m.\u001b[0m\u001b[0mplot\u001b[0m\u001b[0;34m(\u001b[0m\u001b[0mdf\u001b[0m\u001b[0;34m.\u001b[0m\u001b[0mindex\u001b[0m\u001b[0;34m,\u001b[0m \u001b[0mdf\u001b[0m\u001b[0;34m[\u001b[0m\u001b[0mitem\u001b[0m\u001b[0;34m]\u001b[0m\u001b[0;34m)\u001b[0m\u001b[0;34m\u001b[0m\u001b[0;34m\u001b[0m\u001b[0m\n\u001b[0m\u001b[1;32m      5\u001b[0m   \u001b[0mplt\u001b[0m\u001b[0;34m.\u001b[0m\u001b[0mlegend\u001b[0m\u001b[0;34m(\u001b[0m\u001b[0mitem\u001b[0m\u001b[0;34m)\u001b[0m\u001b[0;34m\u001b[0m\u001b[0;34m\u001b[0m\u001b[0m\n\u001b[1;32m      6\u001b[0m   \u001b[0mplt\u001b[0m\u001b[0;34m.\u001b[0m\u001b[0mshow\u001b[0m\u001b[0;34m(\u001b[0m\u001b[0;34m)\u001b[0m\u001b[0;34m\u001b[0m\u001b[0;34m\u001b[0m\u001b[0m\n",
            "\u001b[0;32m/usr/local/lib/python3.7/dist-packages/pandas/core/frame.py\u001b[0m in \u001b[0;36m__getitem__\u001b[0;34m(self, key)\u001b[0m\n\u001b[1;32m   3456\u001b[0m             \u001b[0;32mif\u001b[0m \u001b[0mself\u001b[0m\u001b[0;34m.\u001b[0m\u001b[0mcolumns\u001b[0m\u001b[0;34m.\u001b[0m\u001b[0mnlevels\u001b[0m \u001b[0;34m>\u001b[0m \u001b[0;36m1\u001b[0m\u001b[0;34m:\u001b[0m\u001b[0;34m\u001b[0m\u001b[0;34m\u001b[0m\u001b[0m\n\u001b[1;32m   3457\u001b[0m                 \u001b[0;32mreturn\u001b[0m \u001b[0mself\u001b[0m\u001b[0;34m.\u001b[0m\u001b[0m_getitem_multilevel\u001b[0m\u001b[0;34m(\u001b[0m\u001b[0mkey\u001b[0m\u001b[0;34m)\u001b[0m\u001b[0;34m\u001b[0m\u001b[0;34m\u001b[0m\u001b[0m\n\u001b[0;32m-> 3458\u001b[0;31m             \u001b[0mindexer\u001b[0m \u001b[0;34m=\u001b[0m \u001b[0mself\u001b[0m\u001b[0;34m.\u001b[0m\u001b[0mcolumns\u001b[0m\u001b[0;34m.\u001b[0m\u001b[0mget_loc\u001b[0m\u001b[0;34m(\u001b[0m\u001b[0mkey\u001b[0m\u001b[0;34m)\u001b[0m\u001b[0;34m\u001b[0m\u001b[0;34m\u001b[0m\u001b[0m\n\u001b[0m\u001b[1;32m   3459\u001b[0m             \u001b[0;32mif\u001b[0m \u001b[0mis_integer\u001b[0m\u001b[0;34m(\u001b[0m\u001b[0mindexer\u001b[0m\u001b[0;34m)\u001b[0m\u001b[0;34m:\u001b[0m\u001b[0;34m\u001b[0m\u001b[0;34m\u001b[0m\u001b[0m\n\u001b[1;32m   3460\u001b[0m                 \u001b[0mindexer\u001b[0m \u001b[0;34m=\u001b[0m \u001b[0;34m[\u001b[0m\u001b[0mindexer\u001b[0m\u001b[0;34m]\u001b[0m\u001b[0;34m\u001b[0m\u001b[0;34m\u001b[0m\u001b[0m\n",
            "\u001b[0;32m/usr/local/lib/python3.7/dist-packages/pandas/core/indexes/base.py\u001b[0m in \u001b[0;36mget_loc\u001b[0;34m(self, key, method, tolerance)\u001b[0m\n\u001b[1;32m   3361\u001b[0m                 \u001b[0;32mreturn\u001b[0m \u001b[0mself\u001b[0m\u001b[0;34m.\u001b[0m\u001b[0m_engine\u001b[0m\u001b[0;34m.\u001b[0m\u001b[0mget_loc\u001b[0m\u001b[0;34m(\u001b[0m\u001b[0mcasted_key\u001b[0m\u001b[0;34m)\u001b[0m\u001b[0;34m\u001b[0m\u001b[0;34m\u001b[0m\u001b[0m\n\u001b[1;32m   3362\u001b[0m             \u001b[0;32mexcept\u001b[0m \u001b[0mKeyError\u001b[0m \u001b[0;32mas\u001b[0m \u001b[0merr\u001b[0m\u001b[0;34m:\u001b[0m\u001b[0;34m\u001b[0m\u001b[0;34m\u001b[0m\u001b[0m\n\u001b[0;32m-> 3363\u001b[0;31m                 \u001b[0;32mraise\u001b[0m \u001b[0mKeyError\u001b[0m\u001b[0;34m(\u001b[0m\u001b[0mkey\u001b[0m\u001b[0;34m)\u001b[0m \u001b[0;32mfrom\u001b[0m \u001b[0merr\u001b[0m\u001b[0;34m\u001b[0m\u001b[0;34m\u001b[0m\u001b[0m\n\u001b[0m\u001b[1;32m   3364\u001b[0m \u001b[0;34m\u001b[0m\u001b[0m\n\u001b[1;32m   3365\u001b[0m         \u001b[0;32mif\u001b[0m \u001b[0mis_scalar\u001b[0m\u001b[0;34m(\u001b[0m\u001b[0mkey\u001b[0m\u001b[0;34m)\u001b[0m \u001b[0;32mand\u001b[0m \u001b[0misna\u001b[0m\u001b[0;34m(\u001b[0m\u001b[0mkey\u001b[0m\u001b[0;34m)\u001b[0m \u001b[0;32mand\u001b[0m \u001b[0;32mnot\u001b[0m \u001b[0mself\u001b[0m\u001b[0;34m.\u001b[0m\u001b[0mhasnans\u001b[0m\u001b[0;34m:\u001b[0m\u001b[0;34m\u001b[0m\u001b[0;34m\u001b[0m\u001b[0m\n",
            "\u001b[0;31mKeyError\u001b[0m: 'open'"
          ]
        }
      ]
    },
    {
      "cell_type": "code",
      "source": [
        "\"\"\"\n",
        "import matplotlib.pyplot as plt\n",
        "df.index = df.pop('date')\n",
        "plt.plot(df.index, df['close'])\n",
        "\"\"\""
      ],
      "metadata": {
        "id": "adxOYWw7UVfj",
        "colab": {
          "base_uri": "https://localhost:8080/",
          "height": 35
        },
        "outputId": "e8cda51f-45b8-4d87-811c-a36c0391e29d"
      },
      "execution_count": null,
      "outputs": [
        {
          "output_type": "execute_result",
          "data": {
            "text/plain": [
              "\"\\nimport matplotlib.pyplot as plt\\ndf.index = df.pop('date')\\nplt.plot(df.index, df['close'])\\n\""
            ],
            "application/vnd.google.colaboratory.intrinsic+json": {
              "type": "string"
            }
          },
          "metadata": {},
          "execution_count": 21
        }
      ]
    },
    {
      "cell_type": "code",
      "source": [
        "\"\"\"\n",
        "plt.plot(df.index, df['high'])\n",
        "plt.plot(df.index,  df['low'])\n",
        "plt.legend(['high', 'low'])\n",
        "\"\"\""
      ],
      "metadata": {
        "colab": {
          "base_uri": "https://localhost:8080/",
          "height": 35
        },
        "id": "ofFGVZGhOiYM",
        "outputId": "392b697a-f654-4d05-af71-bd1d8077d2c3"
      },
      "execution_count": null,
      "outputs": [
        {
          "output_type": "execute_result",
          "data": {
            "text/plain": [
              "\"\\nplt.plot(df.index, df['high'])\\nplt.plot(df.index,  df['low'])\\nplt.legend(['high', 'low'])\\n\""
            ],
            "application/vnd.google.colaboratory.intrinsic+json": {
              "type": "string"
            }
          },
          "metadata": {},
          "execution_count": 23
        }
      ]
    },
    {
      "cell_type": "markdown",
      "source": [
        "## date are later then 2009"
      ],
      "metadata": {
        "id": "zyL0HcawUlKc"
      }
    },
    {
      "cell_type": "code",
      "source": [
        "import matplotlib.pyplot as plt\n",
        "df_1999_2009.index = df_1999_2009.pop('date')\n",
        "#plt.plot(df_1999_2009.index, df_1999_2009['close'])"
      ],
      "metadata": {
        "colab": {
          "base_uri": "https://localhost:8080/",
          "height": 502
        },
        "id": "Ja4RT6EvUk4i",
        "outputId": "589d89c5-7701-4765-c802-bb01a7c4e93f"
      },
      "execution_count": null,
      "outputs": [
        {
          "output_type": "error",
          "ename": "KeyError",
          "evalue": "ignored",
          "traceback": [
            "\u001b[0;31m---------------------------------------------------------------------------\u001b[0m",
            "\u001b[0;31mKeyError\u001b[0m                                  Traceback (most recent call last)",
            "\u001b[0;32m/usr/local/lib/python3.7/dist-packages/pandas/core/indexes/base.py\u001b[0m in \u001b[0;36mget_loc\u001b[0;34m(self, key, method, tolerance)\u001b[0m\n\u001b[1;32m   3360\u001b[0m             \u001b[0;32mtry\u001b[0m\u001b[0;34m:\u001b[0m\u001b[0;34m\u001b[0m\u001b[0;34m\u001b[0m\u001b[0m\n\u001b[0;32m-> 3361\u001b[0;31m                 \u001b[0;32mreturn\u001b[0m \u001b[0mself\u001b[0m\u001b[0;34m.\u001b[0m\u001b[0m_engine\u001b[0m\u001b[0;34m.\u001b[0m\u001b[0mget_loc\u001b[0m\u001b[0;34m(\u001b[0m\u001b[0mcasted_key\u001b[0m\u001b[0;34m)\u001b[0m\u001b[0;34m\u001b[0m\u001b[0;34m\u001b[0m\u001b[0m\n\u001b[0m\u001b[1;32m   3362\u001b[0m             \u001b[0;32mexcept\u001b[0m \u001b[0mKeyError\u001b[0m \u001b[0;32mas\u001b[0m \u001b[0merr\u001b[0m\u001b[0;34m:\u001b[0m\u001b[0;34m\u001b[0m\u001b[0;34m\u001b[0m\u001b[0m\n",
            "\u001b[0;32m/usr/local/lib/python3.7/dist-packages/pandas/_libs/index.pyx\u001b[0m in \u001b[0;36mpandas._libs.index.IndexEngine.get_loc\u001b[0;34m()\u001b[0m\n",
            "\u001b[0;32m/usr/local/lib/python3.7/dist-packages/pandas/_libs/index.pyx\u001b[0m in \u001b[0;36mpandas._libs.index.IndexEngine.get_loc\u001b[0;34m()\u001b[0m\n",
            "\u001b[0;32mpandas/_libs/hashtable_class_helper.pxi\u001b[0m in \u001b[0;36mpandas._libs.hashtable.PyObjectHashTable.get_item\u001b[0;34m()\u001b[0m\n",
            "\u001b[0;32mpandas/_libs/hashtable_class_helper.pxi\u001b[0m in \u001b[0;36mpandas._libs.hashtable.PyObjectHashTable.get_item\u001b[0;34m()\u001b[0m\n",
            "\u001b[0;31mKeyError\u001b[0m: 'date'",
            "\nThe above exception was the direct cause of the following exception:\n",
            "\u001b[0;31mKeyError\u001b[0m                                  Traceback (most recent call last)",
            "\u001b[0;32m<ipython-input-26-4fa382ddd1e8>\u001b[0m in \u001b[0;36m<module>\u001b[0;34m()\u001b[0m\n\u001b[1;32m      1\u001b[0m \u001b[0;32mimport\u001b[0m \u001b[0mmatplotlib\u001b[0m\u001b[0;34m.\u001b[0m\u001b[0mpyplot\u001b[0m \u001b[0;32mas\u001b[0m \u001b[0mplt\u001b[0m\u001b[0;34m\u001b[0m\u001b[0;34m\u001b[0m\u001b[0m\n\u001b[0;32m----> 2\u001b[0;31m \u001b[0mdf_1999_2009\u001b[0m\u001b[0;34m.\u001b[0m\u001b[0mindex\u001b[0m \u001b[0;34m=\u001b[0m \u001b[0mdf_1999_2009\u001b[0m\u001b[0;34m.\u001b[0m\u001b[0mpop\u001b[0m\u001b[0;34m(\u001b[0m\u001b[0;34m'date'\u001b[0m\u001b[0;34m)\u001b[0m\u001b[0;34m\u001b[0m\u001b[0;34m\u001b[0m\u001b[0m\n\u001b[0m\u001b[1;32m      3\u001b[0m \u001b[0;31m#plt.plot(df_1999_2009.index, df_1999_2009['close'])\u001b[0m\u001b[0;34m\u001b[0m\u001b[0;34m\u001b[0m\u001b[0;34m\u001b[0m\u001b[0m\n",
            "\u001b[0;32m/usr/local/lib/python3.7/dist-packages/pandas/core/frame.py\u001b[0m in \u001b[0;36mpop\u001b[0;34m(self, item)\u001b[0m\n\u001b[1;32m   5224\u001b[0m         \u001b[0;36m3\u001b[0m  \u001b[0mmonkey\u001b[0m        \u001b[0mNaN\u001b[0m\u001b[0;34m\u001b[0m\u001b[0;34m\u001b[0m\u001b[0m\n\u001b[1;32m   5225\u001b[0m         \"\"\"\n\u001b[0;32m-> 5226\u001b[0;31m         \u001b[0;32mreturn\u001b[0m \u001b[0msuper\u001b[0m\u001b[0;34m(\u001b[0m\u001b[0;34m)\u001b[0m\u001b[0;34m.\u001b[0m\u001b[0mpop\u001b[0m\u001b[0;34m(\u001b[0m\u001b[0mitem\u001b[0m\u001b[0;34m=\u001b[0m\u001b[0mitem\u001b[0m\u001b[0;34m)\u001b[0m\u001b[0;34m\u001b[0m\u001b[0;34m\u001b[0m\u001b[0m\n\u001b[0m\u001b[1;32m   5227\u001b[0m \u001b[0;34m\u001b[0m\u001b[0m\n\u001b[1;32m   5228\u001b[0m     \u001b[0;34m@\u001b[0m\u001b[0mdoc\u001b[0m\u001b[0;34m(\u001b[0m\u001b[0mNDFrame\u001b[0m\u001b[0;34m.\u001b[0m\u001b[0mreplace\u001b[0m\u001b[0;34m,\u001b[0m \u001b[0;34m**\u001b[0m\u001b[0m_shared_doc_kwargs\u001b[0m\u001b[0;34m)\u001b[0m\u001b[0;34m\u001b[0m\u001b[0;34m\u001b[0m\u001b[0m\n",
            "\u001b[0;32m/usr/local/lib/python3.7/dist-packages/pandas/core/generic.py\u001b[0m in \u001b[0;36mpop\u001b[0;34m(self, item)\u001b[0m\n\u001b[1;32m    868\u001b[0m \u001b[0;34m\u001b[0m\u001b[0m\n\u001b[1;32m    869\u001b[0m     \u001b[0;32mdef\u001b[0m \u001b[0mpop\u001b[0m\u001b[0;34m(\u001b[0m\u001b[0mself\u001b[0m\u001b[0;34m,\u001b[0m \u001b[0mitem\u001b[0m\u001b[0;34m:\u001b[0m \u001b[0mHashable\u001b[0m\u001b[0;34m)\u001b[0m \u001b[0;34m->\u001b[0m \u001b[0mSeries\u001b[0m \u001b[0;34m|\u001b[0m \u001b[0mAny\u001b[0m\u001b[0;34m:\u001b[0m\u001b[0;34m\u001b[0m\u001b[0;34m\u001b[0m\u001b[0m\n\u001b[0;32m--> 870\u001b[0;31m         \u001b[0mresult\u001b[0m \u001b[0;34m=\u001b[0m \u001b[0mself\u001b[0m\u001b[0;34m[\u001b[0m\u001b[0mitem\u001b[0m\u001b[0;34m]\u001b[0m\u001b[0;34m\u001b[0m\u001b[0;34m\u001b[0m\u001b[0m\n\u001b[0m\u001b[1;32m    871\u001b[0m         \u001b[0;32mdel\u001b[0m \u001b[0mself\u001b[0m\u001b[0;34m[\u001b[0m\u001b[0mitem\u001b[0m\u001b[0;34m]\u001b[0m\u001b[0;34m\u001b[0m\u001b[0;34m\u001b[0m\u001b[0m\n\u001b[1;32m    872\u001b[0m \u001b[0;34m\u001b[0m\u001b[0m\n",
            "\u001b[0;32m/usr/local/lib/python3.7/dist-packages/pandas/core/frame.py\u001b[0m in \u001b[0;36m__getitem__\u001b[0;34m(self, key)\u001b[0m\n\u001b[1;32m   3456\u001b[0m             \u001b[0;32mif\u001b[0m \u001b[0mself\u001b[0m\u001b[0;34m.\u001b[0m\u001b[0mcolumns\u001b[0m\u001b[0;34m.\u001b[0m\u001b[0mnlevels\u001b[0m \u001b[0;34m>\u001b[0m \u001b[0;36m1\u001b[0m\u001b[0;34m:\u001b[0m\u001b[0;34m\u001b[0m\u001b[0;34m\u001b[0m\u001b[0m\n\u001b[1;32m   3457\u001b[0m                 \u001b[0;32mreturn\u001b[0m \u001b[0mself\u001b[0m\u001b[0;34m.\u001b[0m\u001b[0m_getitem_multilevel\u001b[0m\u001b[0;34m(\u001b[0m\u001b[0mkey\u001b[0m\u001b[0;34m)\u001b[0m\u001b[0;34m\u001b[0m\u001b[0;34m\u001b[0m\u001b[0m\n\u001b[0;32m-> 3458\u001b[0;31m             \u001b[0mindexer\u001b[0m \u001b[0;34m=\u001b[0m \u001b[0mself\u001b[0m\u001b[0;34m.\u001b[0m\u001b[0mcolumns\u001b[0m\u001b[0;34m.\u001b[0m\u001b[0mget_loc\u001b[0m\u001b[0;34m(\u001b[0m\u001b[0mkey\u001b[0m\u001b[0;34m)\u001b[0m\u001b[0;34m\u001b[0m\u001b[0;34m\u001b[0m\u001b[0m\n\u001b[0m\u001b[1;32m   3459\u001b[0m             \u001b[0;32mif\u001b[0m \u001b[0mis_integer\u001b[0m\u001b[0;34m(\u001b[0m\u001b[0mindexer\u001b[0m\u001b[0;34m)\u001b[0m\u001b[0;34m:\u001b[0m\u001b[0;34m\u001b[0m\u001b[0;34m\u001b[0m\u001b[0m\n\u001b[1;32m   3460\u001b[0m                 \u001b[0mindexer\u001b[0m \u001b[0;34m=\u001b[0m \u001b[0;34m[\u001b[0m\u001b[0mindexer\u001b[0m\u001b[0;34m]\u001b[0m\u001b[0;34m\u001b[0m\u001b[0;34m\u001b[0m\u001b[0m\n",
            "\u001b[0;32m/usr/local/lib/python3.7/dist-packages/pandas/core/indexes/base.py\u001b[0m in \u001b[0;36mget_loc\u001b[0;34m(self, key, method, tolerance)\u001b[0m\n\u001b[1;32m   3361\u001b[0m                 \u001b[0;32mreturn\u001b[0m \u001b[0mself\u001b[0m\u001b[0;34m.\u001b[0m\u001b[0m_engine\u001b[0m\u001b[0;34m.\u001b[0m\u001b[0mget_loc\u001b[0m\u001b[0;34m(\u001b[0m\u001b[0mcasted_key\u001b[0m\u001b[0;34m)\u001b[0m\u001b[0;34m\u001b[0m\u001b[0;34m\u001b[0m\u001b[0m\n\u001b[1;32m   3362\u001b[0m             \u001b[0;32mexcept\u001b[0m \u001b[0mKeyError\u001b[0m \u001b[0;32mas\u001b[0m \u001b[0merr\u001b[0m\u001b[0;34m:\u001b[0m\u001b[0;34m\u001b[0m\u001b[0;34m\u001b[0m\u001b[0m\n\u001b[0;32m-> 3363\u001b[0;31m                 \u001b[0;32mraise\u001b[0m \u001b[0mKeyError\u001b[0m\u001b[0;34m(\u001b[0m\u001b[0mkey\u001b[0m\u001b[0;34m)\u001b[0m \u001b[0;32mfrom\u001b[0m \u001b[0merr\u001b[0m\u001b[0;34m\u001b[0m\u001b[0;34m\u001b[0m\u001b[0m\n\u001b[0m\u001b[1;32m   3364\u001b[0m \u001b[0;34m\u001b[0m\u001b[0m\n\u001b[1;32m   3365\u001b[0m         \u001b[0;32mif\u001b[0m \u001b[0mis_scalar\u001b[0m\u001b[0;34m(\u001b[0m\u001b[0mkey\u001b[0m\u001b[0;34m)\u001b[0m \u001b[0;32mand\u001b[0m \u001b[0misna\u001b[0m\u001b[0;34m(\u001b[0m\u001b[0mkey\u001b[0m\u001b[0;34m)\u001b[0m \u001b[0;32mand\u001b[0m \u001b[0;32mnot\u001b[0m \u001b[0mself\u001b[0m\u001b[0;34m.\u001b[0m\u001b[0mhasnans\u001b[0m\u001b[0;34m:\u001b[0m\u001b[0;34m\u001b[0m\u001b[0;34m\u001b[0m\u001b[0m\n",
            "\u001b[0;31mKeyError\u001b[0m: 'date'"
          ]
        }
      ]
    },
    {
      "cell_type": "code",
      "source": [
        "import matplotlib.pyplot as plt\n",
        "df_2009_2022.index = df_2009_2022.pop('Date')\n",
        "plt.plot(df_2009_2022.index, df_2009_2022['Close'])"
      ],
      "metadata": {
        "colab": {
          "base_uri": "https://localhost:8080/",
          "height": 282
        },
        "id": "-t5P6pShXDRj",
        "outputId": "22b44aab-3f69-4585-9e5b-303229ad0174"
      },
      "execution_count": null,
      "outputs": [
        {
          "output_type": "execute_result",
          "data": {
            "text/plain": [
              "[<matplotlib.lines.Line2D at 0x7f48ba98a910>]"
            ]
          },
          "metadata": {},
          "execution_count": 13
        },
        {
          "output_type": "display_data",
          "data": {
            "text/plain": [
              "<Figure size 432x288 with 1 Axes>"
            ],
            "image/png": "[encoded data removed]"
          },
          "metadata": {
            "needs_background": "light"
          }
        }
      ]
    },
    {
      "cell_type": "code",
      "source": [
        "list_of_columns_analysis = [\"Open\",\t\"High\",\t\"Low\",\t\"Close\",\t\"Volume\"]\n",
        "\n",
        "for item in list_of_columns_analysis:\n",
        "  plt.plot(df_2009_2022.index, df_2009_2022[item])\n",
        "  plt.legend(item)\n",
        "  plt.show()"
      ],
      "metadata": {
        "colab": {
          "base_uri": "https://localhost:8080/",
          "height": 1000
        },
        "id": "ToftXCgcbHr6",
        "outputId": "4f9e328f-f7f2-4bf6-d133-05defac8bae9"
      },
      "execution_count": null,
      "outputs": [
        {
          "output_type": "display_data",
          "data": {
            "text/plain": [
              "<Figure size 432x288 with 1 Axes>"
            ],
            "image/png": "[encoded data removed]"
          },
          "metadata": {
            "needs_background": "light"
          }
        },
        {
          "output_type": "display_data",
          "data": {
            "text/plain": [
              "<Figure size 432x288 with 1 Axes>"
            ],
            "image/png": "[encoded data removed]"
          },
          "metadata": {
            "needs_background": "light"
          }
        },
        {
          "output_type": "display_data",
          "data": {
            "text/plain": [
              "<Figure size 432x288 with 1 Axes>"
            ],
            "image/png": "[encoded data removed]"
          },
          "metadata": {
            "needs_background": "light"
          }
        },
        {
          "output_type": "display_data",
          "data": {
            "text/plain": [
              "<Figure size 432x288 with 1 Axes>"
            ],
            "image/png": "[encoded data removed]"
          },
          "metadata": {
            "needs_background": "light"
          }
        },
        {
          "output_type": "display_data",
          "data": {
            "text/plain": [
              "<Figure size 432x288 with 1 Axes>"
            ],
            "image/png": "[encoded data removed]"
          },
          "metadata": {
            "needs_background": "light"
          }
        }
      ]
    },
    {
      "cell_type": "code",
      "source": [
        "plt.plot(df_2009_2022.index, df_2009_2022['High'])\n",
        "plt.plot(df_2009_2022.index,  df_2009_2022['Low'])\n",
        "plt.legend(['High', 'Low'])"
      ],
      "metadata": {
        "colab": {
          "base_uri": "https://localhost:8080/",
          "height": 283
        },
        "id": "g_3qDo54br1K",
        "outputId": "c4bf2e28-eed3-4ab4-d432-d5ee998ec8fd"
      },
      "execution_count": null,
      "outputs": [
        {
          "output_type": "execute_result",
          "data": {
            "text/plain": [
              "<matplotlib.legend.Legend at 0x7ffba3b76bd0>"
            ]
          },
          "metadata": {},
          "execution_count": 47
        },
        {
          "output_type": "display_data",
          "data": {
            "text/plain": [
              "<Figure size 432x288 with 1 Axes>"
            ],
            "image/png": "[encoded data removed]"
          },
          "metadata": {
            "needs_background": "light"
          }
        }
      ]
    },
    {
      "cell_type": "markdown",
      "source": [
        ""
      ],
      "metadata": {
        "id": "FnpgEGA5Urpu"
      }
    },
    {
      "cell_type": "code",
      "source": [
        "plt.plot(df.index, df['Close'])"
      ],
      "metadata": {
        "id": "1cmSZiQZNCd8"
      },
      "execution_count": null,
      "outputs": []
    },
    {
      "cell_type": "code",
      "execution_count": null,
      "metadata": {
        "colab": {
          "base_uri": "https://localhost:8080/"
        },
        "id": "ZtzK_Fnd6UEP",
        "outputId": "b58f87ae-4815-4f84-964e-9357d2ee2147"
      },
      "outputs": [
        {
          "output_type": "execute_result",
          "data": {
            "text/plain": [
              "datetime.datetime(1986, 3, 19, 0, 0)"
            ]
          },
          "metadata": {},
          "execution_count": 72
        }
      ],
      "source": [
        "import datetime\n",
        "\n",
        "def str_to_datetime(s):\n",
        "  split = s.split('-')\n",
        "  year, month, day = int(split[0]), int(split[1]), int(split[2])\n",
        "  return datetime.datetime(year=year, month=month, day=day)\n",
        "\n",
        "datetime_object = str_to_datetime('1986-03-19')\n",
        "datetime_object"
      ]
    },
    {
      "cell_type": "code",
      "execution_count": null,
      "metadata": {
        "colab": {
          "base_uri": "https://localhost:8080/",
          "height": 455
        },
        "id": "fE62iBCl-d_P",
        "outputId": "a7d0f07d-a96c-41c2-ff46-fc9eb8403c7c"
      },
      "outputs": [
        {
          "output_type": "execute_result",
          "data": {
            "text/plain": [
              "                  Open        High         Low       Close       Volume  temp  \\\n",
              "Date                                                                            \n",
              "2022-03-28  172.170000  175.730000  172.000000  175.600000   90371916.0   NaN   \n",
              "2022-03-25  173.880000  175.280000  172.750000  174.720000   80281664.0   NaN   \n",
              "2022-03-24  171.060000  174.140000  170.210000  174.070000   90131418.0   NaN   \n",
              "2022-03-23  167.990000  172.640000  167.650000  170.210000   98062674.0   NaN   \n",
              "2022-03-22  165.510000  169.420000  164.910000  168.820000   80979755.0   NaN   \n",
              "...                ...         ...         ...         ...          ...   ...   \n",
              "1999-11-05    0.755536    0.789018    0.750000    0.788482  416808000.0   NaN   \n",
              "1999-11-04    0.732679    0.762232    0.719821    0.746607  379086400.0   NaN   \n",
              "1999-11-03    0.728750    0.743304    0.723214    0.727679  328462400.0   NaN   \n",
              "1999-11-02    0.696429    0.729375    0.690268    0.716518  399235200.0   NaN   \n",
              "1999-11-01    0.714286    0.720446    0.690804    0.693036  278577600.0   NaN   \n",
              "\n",
              "                  temp2  \n",
              "Date                     \n",
              "2022-03-28   90371916.0  \n",
              "2022-03-25   80281664.0  \n",
              "2022-03-24   90131418.0  \n",
              "2022-03-23   98062674.0  \n",
              "2022-03-22   80979755.0  \n",
              "...                 ...  \n",
              "1999-11-05  416808000.0  \n",
              "1999-11-04  379086400.0  \n",
              "1999-11-03  328462400.0  \n",
              "1999-11-02  399235200.0  \n",
              "1999-11-01  278577600.0  \n",
              "\n",
              "[5638 rows x 7 columns]"
            ],
            "text/html": [
              "\n",
              "  <div id=\"df-6612ae22-3665-4a5c-9eb8-0d8cfc75f188\">\n",
              "    <div class=\"colab-df-container\">\n",
              "      <div>\n",
              "<style scoped>\n",
              "    .dataframe tbody tr th:only-of-type {\n",
              "        vertical-align: middle;\n",
              "    }\n",
              "\n",
              "    .dataframe tbody tr th {\n",
              "        vertical-align: top;\n",
              "    }\n",
              "\n",
              "    .dataframe thead th {\n",
              "        text-align: right;\n",
              "    }\n",
              "</style>\n",
              "<table border=\"1\" class=\"dataframe\">\n",
              "  <thead>\n",
              "    <tr style=\"text-align: right;\">\n",
              "      <th></th>\n",
              "      <th>Open</th>\n",
              "      <th>High</th>\n",
              "      <th>Low</th>\n",
              "      <th>Close</th>\n",
              "      <th>Volume</th>\n",
              "      <th>temp</th>\n",
              "      <th>temp2</th>\n",
              "    </tr>\n",
              "    <tr>\n",
              "      <th>Date</th>\n",
              "      <th></th>\n",
              "      <th></th>\n",
              "      <th></th>\n",
              "      <th></th>\n",
              "      <th></th>\n",
              "      <th></th>\n",
              "      <th></th>\n",
              "    </tr>\n",
              "  </thead>\n",
              "  <tbody>\n",
              "    <tr>\n",
              "      <th>2022-03-28</th>\n",
              "      <td>172.170000</td>\n",
              "      <td>175.730000</td>\n",
              "      <td>172.000000</td>\n",
              "      <td>175.600000</td>\n",
              "      <td>90371916.0</td>\n",
              "      <td>NaN</td>\n",
              "      <td>90371916.0</td>\n",
              "    </tr>\n",
              "    <tr>\n",
              "      <th>2022-03-25</th>\n",
              "      <td>173.880000</td>\n",
              "      <td>175.280000</td>\n",
              "      <td>172.750000</td>\n",
              "      <td>174.720000</td>\n",
              "      <td>80281664.0</td>\n",
              "      <td>NaN</td>\n",
              "      <td>80281664.0</td>\n",
              "    </tr>\n",
              "    <tr>\n",
              "      <th>2022-03-24</th>\n",
              "      <td>171.060000</td>\n",
              "      <td>174.140000</td>\n",
              "      <td>170.210000</td>\n",
              "      <td>174.070000</td>\n",
              "      <td>90131418.0</td>\n",
              "      <td>NaN</td>\n",
              "      <td>90131418.0</td>\n",
              "    </tr>\n",
              "    <tr>\n",
              "      <th>2022-03-23</th>\n",
              "      <td>167.990000</td>\n",
              "      <td>172.640000</td>\n",
              "      <td>167.650000</td>\n",
              "      <td>170.210000</td>\n",
              "      <td>98062674.0</td>\n",
              "      <td>NaN</td>\n",
              "      <td>98062674.0</td>\n",
              "    </tr>\n",
              "    <tr>\n",
              "      <th>2022-03-22</th>\n",
              "      <td>165.510000</td>\n",
              "      <td>169.420000</td>\n",
              "      <td>164.910000</td>\n",
              "      <td>168.820000</td>\n",
              "      <td>80979755.0</td>\n",
              "      <td>NaN</td>\n",
              "      <td>80979755.0</td>\n",
              "    </tr>\n",
              "    <tr>\n",
              "      <th>...</th>\n",
              "      <td>...</td>\n",
              "      <td>...</td>\n",
              "      <td>...</td>\n",
              "      <td>...</td>\n",
              "      <td>...</td>\n",
              "      <td>...</td>\n",
              "      <td>...</td>\n",
              "    </tr>\n",
              "    <tr>\n",
              "      <th>1999-11-05</th>\n",
              "      <td>0.755536</td>\n",
              "      <td>0.789018</td>\n",
              "      <td>0.750000</td>\n",
              "      <td>0.788482</td>\n",
              "      <td>416808000.0</td>\n",
              "      <td>NaN</td>\n",
              "      <td>416808000.0</td>\n",
              "    </tr>\n",
              "    <tr>\n",
              "      <th>1999-11-04</th>\n",
              "      <td>0.732679</td>\n",
              "      <td>0.762232</td>\n",
              "      <td>0.719821</td>\n",
              "      <td>0.746607</td>\n",
              "      <td>379086400.0</td>\n",
              "      <td>NaN</td>\n",
              "      <td>379086400.0</td>\n",
              "    </tr>\n",
              "    <tr>\n",
              "      <th>1999-11-03</th>\n",
              "      <td>0.728750</td>\n",
              "      <td>0.743304</td>\n",
              "      <td>0.723214</td>\n",
              "      <td>0.727679</td>\n",
              "      <td>328462400.0</td>\n",
              "      <td>NaN</td>\n",
              "      <td>328462400.0</td>\n",
              "    </tr>\n",
              "    <tr>\n",
              "      <th>1999-11-02</th>\n",
              "      <td>0.696429</td>\n",
              "      <td>0.729375</td>\n",
              "      <td>0.690268</td>\n",
              "      <td>0.716518</td>\n",
              "      <td>399235200.0</td>\n",
              "      <td>NaN</td>\n",
              "      <td>399235200.0</td>\n",
              "    </tr>\n",
              "    <tr>\n",
              "      <th>1999-11-01</th>\n",
              "      <td>0.714286</td>\n",
              "      <td>0.720446</td>\n",
              "      <td>0.690804</td>\n",
              "      <td>0.693036</td>\n",
              "      <td>278577600.0</td>\n",
              "      <td>NaN</td>\n",
              "      <td>278577600.0</td>\n",
              "    </tr>\n",
              "  </tbody>\n",
              "</table>\n",
              "<p>5638 rows × 7 columns</p>\n",
              "</div>\n",
              "      <button class=\"colab-df-convert\" onclick=\"convertToInteractive('df-6612ae22-3665-4a5c-9eb8-0d8cfc75f188')\"\n",
              "              title=\"Convert this dataframe to an interactive table.\"\n",
              "              style=\"display:none;\">\n",
              "        \n",
              "  <svg xmlns=\"http://www.w3.org/2000/svg\" height=\"24px\"viewBox=\"0 0 24 24\"\n",
              "       width=\"24px\">\n",
              "    <path d=\"M0 0h24v24H0V0z\" fill=\"none\"/>\n",
              "    <path d=\"M18.56 5.44l.94 2.06.94-2.06 2.06-.94-2.06-.94-.94-2.06-.94 2.06-2.06.94zm-11 1L8.5 8.5l.94-2.06 2.06-.94-2.06-.94L8.5 2.5l-.94 2.06-2.06.94zm10 10l.94 2.06.94-2.06 2.06-.94-2.06-.94-.94-2.06-.94 2.06-2.06.94z\"/><path d=\"M17.41 7.96l-1.37-1.37c-.4-.4-.92-.59-1.43-.59-.52 0-1.04.2-1.43.59L10.3 9.45l-7.72 7.72c-.78.78-.78 2.05 0 2.83L4 21.41c.39.39.9.59 1.41.59.51 0 1.02-.2 1.41-.59l7.78-7.78 2.81-2.81c.8-.78.8-2.07 0-2.86zM5.41 20L4 18.59l7.72-7.72 1.47 1.35L5.41 20z\"/>\n",
              "  </svg>\n",
              "      </button>\n",
              "      \n",
              "  <style>\n",
              "    .colab-df-container {\n",
              "      display:flex;\n",
              "      flex-wrap:wrap;\n",
              "      gap: 12px;\n",
              "    }\n",
              "\n",
              "    .colab-df-convert {\n",
              "      background-color: #E8F0FE;\n",
              "      border: none;\n",
              "      border-radius: 50%;\n",
              "      cursor: pointer;\n",
              "      display: none;\n",
              "      fill: #1967D2;\n",
              "      height: 32px;\n",
              "      padding: 0 0 0 0;\n",
              "      width: 32px;\n",
              "    }\n",
              "\n",
              "    .colab-df-convert:hover {\n",
              "      background-color: #E2EBFA;\n",
              "      box-shadow: 0px 1px 2px rgba(60, 64, 67, 0.3), 0px 1px 3px 1px rgba(60, 64, 67, 0.15);\n",
              "      fill: #174EA6;\n",
              "    }\n",
              "\n",
              "    [theme=dark] .colab-df-convert {\n",
              "      background-color: #3B4455;\n",
              "      fill: #D2E3FC;\n",
              "    }\n",
              "\n",
              "    [theme=dark] .colab-df-convert:hover {\n",
              "      background-color: #434B5C;\n",
              "      box-shadow: 0px 1px 3px 1px rgba(0, 0, 0, 0.15);\n",
              "      filter: drop-shadow(0px 1px 2px rgba(0, 0, 0, 0.3));\n",
              "      fill: #FFFFFF;\n",
              "    }\n",
              "  </style>\n",
              "\n",
              "      <script>\n",
              "        const buttonEl =\n",
              "          document.querySelector('#df-6612ae22-3665-4a5c-9eb8-0d8cfc75f188 button.colab-df-convert');\n",
              "        buttonEl.style.display =\n",
              "          google.colab.kernel.accessAllowed ? 'block' : 'none';\n",
              "\n",
              "        async function convertToInteractive(key) {\n",
              "          const element = document.querySelector('#df-6612ae22-3665-4a5c-9eb8-0d8cfc75f188');\n",
              "          const dataTable =\n",
              "            await google.colab.kernel.invokeFunction('convertToInteractive',\n",
              "                                                     [key], {});\n",
              "          if (!dataTable) return;\n",
              "\n",
              "          const docLinkHtml = 'Like what you see? Visit the ' +\n",
              "            '<a target=\"_blank\" href=https://colab.research.google.com/notebooks/data_table.ipynb>data table notebook</a>'\n",
              "            + ' to learn more about interactive tables.';\n",
              "          element.innerHTML = '';\n",
              "          dataTable['output_type'] = 'display_data';\n",
              "          await google.colab.output.renderOutput(dataTable, element);\n",
              "          const docLink = document.createElement('div');\n",
              "          docLink.innerHTML = docLinkHtml;\n",
              "          element.appendChild(docLink);\n",
              "        }\n",
              "      </script>\n",
              "    </div>\n",
              "  </div>\n",
              "  "
            ]
          },
          "metadata": {},
          "execution_count": 11
        }
      ],
      "source": [
        "df"
      ]
    },
    {
      "cell_type": "code",
      "execution_count": null,
      "metadata": {
        "colab": {
          "base_uri": "https://localhost:8080/",
          "height": 515
        },
        "id": "-0LJeyey_o6t",
        "outputId": "b476c5d8-65cd-44b6-f01f-58661a805f94"
      },
      "outputs": [
        {
          "output_type": "error",
          "ename": "KeyError",
          "evalue": "ignored",
          "traceback": [
            "\u001b[0;31m---------------------------------------------------------------------------\u001b[0m",
            "\u001b[0;31mKeyError\u001b[0m                                  Traceback (most recent call last)",
            "\u001b[0;32m/usr/local/lib/python3.7/dist-packages/pandas/core/indexes/base.py\u001b[0m in \u001b[0;36mget_loc\u001b[0;34m(self, key, method, tolerance)\u001b[0m\n\u001b[1;32m   3360\u001b[0m             \u001b[0;32mtry\u001b[0m\u001b[0;34m:\u001b[0m\u001b[0;34m\u001b[0m\u001b[0;34m\u001b[0m\u001b[0m\n\u001b[0;32m-> 3361\u001b[0;31m                 \u001b[0;32mreturn\u001b[0m \u001b[0mself\u001b[0m\u001b[0;34m.\u001b[0m\u001b[0m_engine\u001b[0m\u001b[0;34m.\u001b[0m\u001b[0mget_loc\u001b[0m\u001b[0;34m(\u001b[0m\u001b[0mcasted_key\u001b[0m\u001b[0;34m)\u001b[0m\u001b[0;34m\u001b[0m\u001b[0;34m\u001b[0m\u001b[0m\n\u001b[0m\u001b[1;32m   3362\u001b[0m             \u001b[0;32mexcept\u001b[0m \u001b[0mKeyError\u001b[0m \u001b[0;32mas\u001b[0m \u001b[0merr\u001b[0m\u001b[0;34m:\u001b[0m\u001b[0;34m\u001b[0m\u001b[0;34m\u001b[0m\u001b[0m\n",
            "\u001b[0;32m/usr/local/lib/python3.7/dist-packages/pandas/_libs/index.pyx\u001b[0m in \u001b[0;36mpandas._libs.index.IndexEngine.get_loc\u001b[0;34m()\u001b[0m\n",
            "\u001b[0;32m/usr/local/lib/python3.7/dist-packages/pandas/_libs/index.pyx\u001b[0m in \u001b[0;36mpandas._libs.index.IndexEngine.get_loc\u001b[0;34m()\u001b[0m\n",
            "\u001b[0;32mpandas/_libs/hashtable_class_helper.pxi\u001b[0m in \u001b[0;36mpandas._libs.hashtable.PyObjectHashTable.get_item\u001b[0;34m()\u001b[0m\n",
            "\u001b[0;32mpandas/_libs/hashtable_class_helper.pxi\u001b[0m in \u001b[0;36mpandas._libs.hashtable.PyObjectHashTable.get_item\u001b[0;34m()\u001b[0m\n",
            "\u001b[0;31mKeyError\u001b[0m: 'Date'",
            "\nThe above exception was the direct cause of the following exception:\n",
            "\u001b[0;31mKeyError\u001b[0m                                  Traceback (most recent call last)",
            "\u001b[0;32m<ipython-input-73-f6fc52bb0fa5>\u001b[0m in \u001b[0;36m<module>\u001b[0;34m()\u001b[0m\n\u001b[0;32m----> 1\u001b[0;31m \u001b[0mdf\u001b[0m\u001b[0;34m[\u001b[0m\u001b[0;34m'Date'\u001b[0m\u001b[0;34m]\u001b[0m \u001b[0;34m=\u001b[0m \u001b[0mdf\u001b[0m\u001b[0;34m[\u001b[0m\u001b[0;34m'Date'\u001b[0m\u001b[0;34m]\u001b[0m\u001b[0;34m.\u001b[0m\u001b[0mapply\u001b[0m\u001b[0;34m(\u001b[0m\u001b[0mstr_to_datetime\u001b[0m\u001b[0;34m)\u001b[0m\u001b[0;34m\u001b[0m\u001b[0;34m\u001b[0m\u001b[0m\n\u001b[0m\u001b[1;32m      2\u001b[0m \u001b[0mdf\u001b[0m\u001b[0;34m[\u001b[0m\u001b[0;34m'Date'\u001b[0m\u001b[0;34m]\u001b[0m\u001b[0;34m\u001b[0m\u001b[0;34m\u001b[0m\u001b[0m\n",
            "\u001b[0;32m/usr/local/lib/python3.7/dist-packages/pandas/core/frame.py\u001b[0m in \u001b[0;36m__getitem__\u001b[0;34m(self, key)\u001b[0m\n\u001b[1;32m   3456\u001b[0m             \u001b[0;32mif\u001b[0m \u001b[0mself\u001b[0m\u001b[0;34m.\u001b[0m\u001b[0mcolumns\u001b[0m\u001b[0;34m.\u001b[0m\u001b[0mnlevels\u001b[0m \u001b[0;34m>\u001b[0m \u001b[0;36m1\u001b[0m\u001b[0;34m:\u001b[0m\u001b[0;34m\u001b[0m\u001b[0;34m\u001b[0m\u001b[0m\n\u001b[1;32m   3457\u001b[0m                 \u001b[0;32mreturn\u001b[0m \u001b[0mself\u001b[0m\u001b[0;34m.\u001b[0m\u001b[0m_getitem_multilevel\u001b[0m\u001b[0;34m(\u001b[0m\u001b[0mkey\u001b[0m\u001b[0;34m)\u001b[0m\u001b[0;34m\u001b[0m\u001b[0;34m\u001b[0m\u001b[0m\n\u001b[0;32m-> 3458\u001b[0;31m             \u001b[0mindexer\u001b[0m \u001b[0;34m=\u001b[0m \u001b[0mself\u001b[0m\u001b[0;34m.\u001b[0m\u001b[0mcolumns\u001b[0m\u001b[0;34m.\u001b[0m\u001b[0mget_loc\u001b[0m\u001b[0;34m(\u001b[0m\u001b[0mkey\u001b[0m\u001b[0;34m)\u001b[0m\u001b[0;34m\u001b[0m\u001b[0;34m\u001b[0m\u001b[0m\n\u001b[0m\u001b[1;32m   3459\u001b[0m             \u001b[0;32mif\u001b[0m \u001b[0mis_integer\u001b[0m\u001b[0;34m(\u001b[0m\u001b[0mindexer\u001b[0m\u001b[0;34m)\u001b[0m\u001b[0;34m:\u001b[0m\u001b[0;34m\u001b[0m\u001b[0;34m\u001b[0m\u001b[0m\n\u001b[1;32m   3460\u001b[0m                 \u001b[0mindexer\u001b[0m \u001b[0;34m=\u001b[0m \u001b[0;34m[\u001b[0m\u001b[0mindexer\u001b[0m\u001b[0;34m]\u001b[0m\u001b[0;34m\u001b[0m\u001b[0;34m\u001b[0m\u001b[0m\n",
            "\u001b[0;32m/usr/local/lib/python3.7/dist-packages/pandas/core/indexes/base.py\u001b[0m in \u001b[0;36mget_loc\u001b[0;34m(self, key, method, tolerance)\u001b[0m\n\u001b[1;32m   3361\u001b[0m                 \u001b[0;32mreturn\u001b[0m \u001b[0mself\u001b[0m\u001b[0;34m.\u001b[0m\u001b[0m_engine\u001b[0m\u001b[0;34m.\u001b[0m\u001b[0mget_loc\u001b[0m\u001b[0;34m(\u001b[0m\u001b[0mcasted_key\u001b[0m\u001b[0;34m)\u001b[0m\u001b[0;34m\u001b[0m\u001b[0;34m\u001b[0m\u001b[0m\n\u001b[1;32m   3362\u001b[0m             \u001b[0;32mexcept\u001b[0m \u001b[0mKeyError\u001b[0m \u001b[0;32mas\u001b[0m \u001b[0merr\u001b[0m\u001b[0;34m:\u001b[0m\u001b[0;34m\u001b[0m\u001b[0;34m\u001b[0m\u001b[0m\n\u001b[0;32m-> 3363\u001b[0;31m                 \u001b[0;32mraise\u001b[0m \u001b[0mKeyError\u001b[0m\u001b[0;34m(\u001b[0m\u001b[0mkey\u001b[0m\u001b[0;34m)\u001b[0m \u001b[0;32mfrom\u001b[0m \u001b[0merr\u001b[0m\u001b[0;34m\u001b[0m\u001b[0;34m\u001b[0m\u001b[0m\n\u001b[0m\u001b[1;32m   3364\u001b[0m \u001b[0;34m\u001b[0m\u001b[0m\n\u001b[1;32m   3365\u001b[0m         \u001b[0;32mif\u001b[0m \u001b[0mis_scalar\u001b[0m\u001b[0;34m(\u001b[0m\u001b[0mkey\u001b[0m\u001b[0;34m)\u001b[0m \u001b[0;32mand\u001b[0m \u001b[0misna\u001b[0m\u001b[0;34m(\u001b[0m\u001b[0mkey\u001b[0m\u001b[0;34m)\u001b[0m \u001b[0;32mand\u001b[0m \u001b[0;32mnot\u001b[0m \u001b[0mself\u001b[0m\u001b[0;34m.\u001b[0m\u001b[0mhasnans\u001b[0m\u001b[0;34m:\u001b[0m\u001b[0;34m\u001b[0m\u001b[0;34m\u001b[0m\u001b[0m\n",
            "\u001b[0;31mKeyError\u001b[0m: 'Date'"
          ]
        }
      ],
      "source": [
        "df['Date'] = df['Date'].apply(str_to_datetime)\n",
        "df['Date']"
      ]
    },
    {
      "cell_type": "code",
      "execution_count": null,
      "metadata": {
        "colab": {
          "base_uri": "https://localhost:8080/",
          "height": 455
        },
        "id": "khQN7tf1BJCB",
        "outputId": "84af0b79-19ff-4f21-9179-8267f855aa28"
      },
      "outputs": [
        {
          "output_type": "execute_result",
          "data": {
            "text/plain": [
              "                  Open        High         Low       Close       Volume  temp  \\\n",
              "Date                                                                            \n",
              "2022-03-28  172.170000  175.730000  172.000000  175.600000   90371916.0   NaN   \n",
              "2022-03-25  173.880000  175.280000  172.750000  174.720000   80281664.0   NaN   \n",
              "2022-03-24  171.060000  174.140000  170.210000  174.070000   90131418.0   NaN   \n",
              "2022-03-23  167.990000  172.640000  167.650000  170.210000   98062674.0   NaN   \n",
              "2022-03-22  165.510000  169.420000  164.910000  168.820000   80979755.0   NaN   \n",
              "...                ...         ...         ...         ...          ...   ...   \n",
              "1999-11-05    0.755536    0.789018    0.750000    0.788482  416808000.0   NaN   \n",
              "1999-11-04    0.732679    0.762232    0.719821    0.746607  379086400.0   NaN   \n",
              "1999-11-03    0.728750    0.743304    0.723214    0.727679  328462400.0   NaN   \n",
              "1999-11-02    0.696429    0.729375    0.690268    0.716518  399235200.0   NaN   \n",
              "1999-11-01    0.714286    0.720446    0.690804    0.693036  278577600.0   NaN   \n",
              "\n",
              "                  temp2  \n",
              "Date                     \n",
              "2022-03-28   90371916.0  \n",
              "2022-03-25   80281664.0  \n",
              "2022-03-24   90131418.0  \n",
              "2022-03-23   98062674.0  \n",
              "2022-03-22   80979755.0  \n",
              "...                 ...  \n",
              "1999-11-05  416808000.0  \n",
              "1999-11-04  379086400.0  \n",
              "1999-11-03  328462400.0  \n",
              "1999-11-02  399235200.0  \n",
              "1999-11-01  278577600.0  \n",
              "\n",
              "[5638 rows x 7 columns]"
            ],
            "text/html": [
              "\n",
              "  <div id=\"df-05a4453d-0c98-4b76-b006-533110116236\">\n",
              "    <div class=\"colab-df-container\">\n",
              "      <div>\n",
              "<style scoped>\n",
              "    .dataframe tbody tr th:only-of-type {\n",
              "        vertical-align: middle;\n",
              "    }\n",
              "\n",
              "    .dataframe tbody tr th {\n",
              "        vertical-align: top;\n",
              "    }\n",
              "\n",
              "    .dataframe thead th {\n",
              "        text-align: right;\n",
              "    }\n",
              "</style>\n",
              "<table border=\"1\" class=\"dataframe\">\n",
              "  <thead>\n",
              "    <tr style=\"text-align: right;\">\n",
              "      <th></th>\n",
              "      <th>Open</th>\n",
              "      <th>High</th>\n",
              "      <th>Low</th>\n",
              "      <th>Close</th>\n",
              "      <th>Volume</th>\n",
              "      <th>temp</th>\n",
              "      <th>temp2</th>\n",
              "    </tr>\n",
              "    <tr>\n",
              "      <th>Date</th>\n",
              "      <th></th>\n",
              "      <th></th>\n",
              "      <th></th>\n",
              "      <th></th>\n",
              "      <th></th>\n",
              "      <th></th>\n",
              "      <th></th>\n",
              "    </tr>\n",
              "  </thead>\n",
              "  <tbody>\n",
              "    <tr>\n",
              "      <th>2022-03-28</th>\n",
              "      <td>172.170000</td>\n",
              "      <td>175.730000</td>\n",
              "      <td>172.000000</td>\n",
              "      <td>175.600000</td>\n",
              "      <td>90371916.0</td>\n",
              "      <td>NaN</td>\n",
              "      <td>90371916.0</td>\n",
              "    </tr>\n",
              "    <tr>\n",
              "      <th>2022-03-25</th>\n",
              "      <td>173.880000</td>\n",
              "      <td>175.280000</td>\n",
              "      <td>172.750000</td>\n",
              "      <td>174.720000</td>\n",
              "      <td>80281664.0</td>\n",
              "      <td>NaN</td>\n",
              "      <td>80281664.0</td>\n",
              "    </tr>\n",
              "    <tr>\n",
              "      <th>2022-03-24</th>\n",
              "      <td>171.060000</td>\n",
              "      <td>174.140000</td>\n",
              "      <td>170.210000</td>\n",
              "      <td>174.070000</td>\n",
              "      <td>90131418.0</td>\n",
              "      <td>NaN</td>\n",
              "      <td>90131418.0</td>\n",
              "    </tr>\n",
              "    <tr>\n",
              "      <th>2022-03-23</th>\n",
              "      <td>167.990000</td>\n",
              "      <td>172.640000</td>\n",
              "      <td>167.650000</td>\n",
              "      <td>170.210000</td>\n",
              "      <td>98062674.0</td>\n",
              "      <td>NaN</td>\n",
              "      <td>98062674.0</td>\n",
              "    </tr>\n",
              "    <tr>\n",
              "      <th>2022-03-22</th>\n",
              "      <td>165.510000</td>\n",
              "      <td>169.420000</td>\n",
              "      <td>164.910000</td>\n",
              "      <td>168.820000</td>\n",
              "      <td>80979755.0</td>\n",
              "      <td>NaN</td>\n",
              "      <td>80979755.0</td>\n",
              "    </tr>\n",
              "    <tr>\n",
              "      <th>...</th>\n",
              "      <td>...</td>\n",
              "      <td>...</td>\n",
              "      <td>...</td>\n",
              "      <td>...</td>\n",
              "      <td>...</td>\n",
              "      <td>...</td>\n",
              "      <td>...</td>\n",
              "    </tr>\n",
              "    <tr>\n",
              "      <th>1999-11-05</th>\n",
              "      <td>0.755536</td>\n",
              "      <td>0.789018</td>\n",
              "      <td>0.750000</td>\n",
              "      <td>0.788482</td>\n",
              "      <td>416808000.0</td>\n",
              "      <td>NaN</td>\n",
              "      <td>416808000.0</td>\n",
              "    </tr>\n",
              "    <tr>\n",
              "      <th>1999-11-04</th>\n",
              "      <td>0.732679</td>\n",
              "      <td>0.762232</td>\n",
              "      <td>0.719821</td>\n",
              "      <td>0.746607</td>\n",
              "      <td>379086400.0</td>\n",
              "      <td>NaN</td>\n",
              "      <td>379086400.0</td>\n",
              "    </tr>\n",
              "    <tr>\n",
              "      <th>1999-11-03</th>\n",
              "      <td>0.728750</td>\n",
              "      <td>0.743304</td>\n",
              "      <td>0.723214</td>\n",
              "      <td>0.727679</td>\n",
              "      <td>328462400.0</td>\n",
              "      <td>NaN</td>\n",
              "      <td>328462400.0</td>\n",
              "    </tr>\n",
              "    <tr>\n",
              "      <th>1999-11-02</th>\n",
              "      <td>0.696429</td>\n",
              "      <td>0.729375</td>\n",
              "      <td>0.690268</td>\n",
              "      <td>0.716518</td>\n",
              "      <td>399235200.0</td>\n",
              "      <td>NaN</td>\n",
              "      <td>399235200.0</td>\n",
              "    </tr>\n",
              "    <tr>\n",
              "      <th>1999-11-01</th>\n",
              "      <td>0.714286</td>\n",
              "      <td>0.720446</td>\n",
              "      <td>0.690804</td>\n",
              "      <td>0.693036</td>\n",
              "      <td>278577600.0</td>\n",
              "      <td>NaN</td>\n",
              "      <td>278577600.0</td>\n",
              "    </tr>\n",
              "  </tbody>\n",
              "</table>\n",
              "<p>5638 rows × 7 columns</p>\n",
              "</div>\n",
              "      <button class=\"colab-df-convert\" onclick=\"convertToInteractive('df-05a4453d-0c98-4b76-b006-533110116236')\"\n",
              "              title=\"Convert this dataframe to an interactive table.\"\n",
              "              style=\"display:none;\">\n",
              "        \n",
              "  <svg xmlns=\"http://www.w3.org/2000/svg\" height=\"24px\"viewBox=\"0 0 24 24\"\n",
              "       width=\"24px\">\n",
              "    <path d=\"M0 0h24v24H0V0z\" fill=\"none\"/>\n",
              "    <path d=\"M18.56 5.44l.94 2.06.94-2.06 2.06-.94-2.06-.94-.94-2.06-.94 2.06-2.06.94zm-11 1L8.5 8.5l.94-2.06 2.06-.94-2.06-.94L8.5 2.5l-.94 2.06-2.06.94zm10 10l.94 2.06.94-2.06 2.06-.94-2.06-.94-.94-2.06-.94 2.06-2.06.94z\"/><path d=\"M17.41 7.96l-1.37-1.37c-.4-.4-.92-.59-1.43-.59-.52 0-1.04.2-1.43.59L10.3 9.45l-7.72 7.72c-.78.78-.78 2.05 0 2.83L4 21.41c.39.39.9.59 1.41.59.51 0 1.02-.2 1.41-.59l7.78-7.78 2.81-2.81c.8-.78.8-2.07 0-2.86zM5.41 20L4 18.59l7.72-7.72 1.47 1.35L5.41 20z\"/>\n",
              "  </svg>\n",
              "      </button>\n",
              "      \n",
              "  <style>\n",
              "    .colab-df-container {\n",
              "      display:flex;\n",
              "      flex-wrap:wrap;\n",
              "      gap: 12px;\n",
              "    }\n",
              "\n",
              "    .colab-df-convert {\n",
              "      background-color: #E8F0FE;\n",
              "      border: none;\n",
              "      border-radius: 50%;\n",
              "      cursor: pointer;\n",
              "      display: none;\n",
              "      fill: #1967D2;\n",
              "      height: 32px;\n",
              "      padding: 0 0 0 0;\n",
              "      width: 32px;\n",
              "    }\n",
              "\n",
              "    .colab-df-convert:hover {\n",
              "      background-color: #E2EBFA;\n",
              "      box-shadow: 0px 1px 2px rgba(60, 64, 67, 0.3), 0px 1px 3px 1px rgba(60, 64, 67, 0.15);\n",
              "      fill: #174EA6;\n",
              "    }\n",
              "\n",
              "    [theme=dark] .colab-df-convert {\n",
              "      background-color: #3B4455;\n",
              "      fill: #D2E3FC;\n",
              "    }\n",
              "\n",
              "    [theme=dark] .colab-df-convert:hover {\n",
              "      background-color: #434B5C;\n",
              "      box-shadow: 0px 1px 3px 1px rgba(0, 0, 0, 0.15);\n",
              "      filter: drop-shadow(0px 1px 2px rgba(0, 0, 0, 0.3));\n",
              "      fill: #FFFFFF;\n",
              "    }\n",
              "  </style>\n",
              "\n",
              "      <script>\n",
              "        const buttonEl =\n",
              "          document.querySelector('#df-05a4453d-0c98-4b76-b006-533110116236 button.colab-df-convert');\n",
              "        buttonEl.style.display =\n",
              "          google.colab.kernel.accessAllowed ? 'block' : 'none';\n",
              "\n",
              "        async function convertToInteractive(key) {\n",
              "          const element = document.querySelector('#df-05a4453d-0c98-4b76-b006-533110116236');\n",
              "          const dataTable =\n",
              "            await google.colab.kernel.invokeFunction('convertToInteractive',\n",
              "                                                     [key], {});\n",
              "          if (!dataTable) return;\n",
              "\n",
              "          const docLinkHtml = 'Like what you see? Visit the ' +\n",
              "            '<a target=\"_blank\" href=https://colab.research.google.com/notebooks/data_table.ipynb>data table notebook</a>'\n",
              "            + ' to learn more about interactive tables.';\n",
              "          element.innerHTML = '';\n",
              "          dataTable['output_type'] = 'display_data';\n",
              "          await google.colab.output.renderOutput(dataTable, element);\n",
              "          const docLink = document.createElement('div');\n",
              "          docLink.innerHTML = docLinkHtml;\n",
              "          element.appendChild(docLink);\n",
              "        }\n",
              "      </script>\n",
              "    </div>\n",
              "  </div>\n",
              "  "
            ]
          },
          "metadata": {},
          "execution_count": 23
        }
      ],
      "source": [
        "df.index = df.pop('Date')\n",
        "df"
      ]
    },
    {
      "cell_type": "code",
      "execution_count": null,
      "metadata": {
        "colab": {
          "base_uri": "https://localhost:8080/",
          "height": 282
        },
        "id": "17OZExfcBWzD",
        "outputId": "d246a14b-6f7d-4fb9-95bf-65a6bc82963c"
      },
      "outputs": [
        {
          "output_type": "execute_result",
          "data": {
            "text/plain": [
              "[<matplotlib.lines.Line2D at 0x7fa5afb99bd0>]"
            ]
          },
          "metadata": {},
          "execution_count": 28
        },
        {
          "output_type": "display_data",
          "data": {
            "text/plain": [
              "<Figure size 432x288 with 1 Axes>"
            ],
            "image/png": "[encoded data removed]"
          },
          "metadata": {
            "needs_background": "light"
          }
        }
      ],
      "source": [
        "import matplotlib.pyplot as plt\n",
        "\n",
        "plt.plot(df.index, df['Close'])"
      ]
    },
    {
      "cell_type": "markdown",
      "metadata": {
        "id": "y5IVZZgJLBA2"
      },
      "source": [
        ""
      ]
    },
    {
      "cell_type": "code",
      "execution_count": null,
      "metadata": {
        "colab": {
          "base_uri": "https://localhost:8080/",
          "height": 455
        },
        "id": "YjcVh6NMLBrB",
        "outputId": "a7af365c-f929-40b4-c4cc-f396b7b0ef85"
      },
      "outputs": [
        {
          "output_type": "execute_result",
          "data": {
            "text/plain": [
              "                  Open        High         Low       Close       Volume  temp  \\\n",
              "Date                                                                            \n",
              "1999-11-01    0.714286    0.720446    0.690804    0.693036  278577600.0   NaN   \n",
              "1999-11-02    0.696429    0.729375    0.690268    0.716518  399235200.0   NaN   \n",
              "1999-11-03    0.728750    0.743304    0.723214    0.727679  328462400.0   NaN   \n",
              "1999-11-04    0.732679    0.762232    0.719821    0.746607  379086400.0   NaN   \n",
              "1999-11-05    0.755536    0.789018    0.750000    0.788482  416808000.0   NaN   \n",
              "...                ...         ...         ...         ...          ...   ...   \n",
              "2022-03-22  165.510000  169.420000  164.910000  168.820000   80979755.0   NaN   \n",
              "2022-03-23  167.990000  172.640000  167.650000  170.210000   98062674.0   NaN   \n",
              "2022-03-24  171.060000  174.140000  170.210000  174.070000   90131418.0   NaN   \n",
              "2022-03-25  173.880000  175.280000  172.750000  174.720000   80281664.0   NaN   \n",
              "2022-03-28  172.170000  175.730000  172.000000  175.600000   90371916.0   NaN   \n",
              "\n",
              "                  temp2  \n",
              "Date                     \n",
              "1999-11-01  278577600.0  \n",
              "1999-11-02  399235200.0  \n",
              "1999-11-03  328462400.0  \n",
              "1999-11-04  379086400.0  \n",
              "1999-11-05  416808000.0  \n",
              "...                 ...  \n",
              "2022-03-22   80979755.0  \n",
              "2022-03-23   98062674.0  \n",
              "2022-03-24   90131418.0  \n",
              "2022-03-25   80281664.0  \n",
              "2022-03-28   90371916.0  \n",
              "\n",
              "[5638 rows x 7 columns]"
            ],
            "text/html": [
              "\n",
              "  <div id=\"df-25591704-224c-4fc5-974f-800a00abeda0\">\n",
              "    <div class=\"colab-df-container\">\n",
              "      <div>\n",
              "<style scoped>\n",
              "    .dataframe tbody tr th:only-of-type {\n",
              "        vertical-align: middle;\n",
              "    }\n",
              "\n",
              "    .dataframe tbody tr th {\n",
              "        vertical-align: top;\n",
              "    }\n",
              "\n",
              "    .dataframe thead th {\n",
              "        text-align: right;\n",
              "    }\n",
              "</style>\n",
              "<table border=\"1\" class=\"dataframe\">\n",
              "  <thead>\n",
              "    <tr style=\"text-align: right;\">\n",
              "      <th></th>\n",
              "      <th>Open</th>\n",
              "      <th>High</th>\n",
              "      <th>Low</th>\n",
              "      <th>Close</th>\n",
              "      <th>Volume</th>\n",
              "      <th>temp</th>\n",
              "      <th>temp2</th>\n",
              "    </tr>\n",
              "    <tr>\n",
              "      <th>Date</th>\n",
              "      <th></th>\n",
              "      <th></th>\n",
              "      <th></th>\n",
              "      <th></th>\n",
              "      <th></th>\n",
              "      <th></th>\n",
              "      <th></th>\n",
              "    </tr>\n",
              "  </thead>\n",
              "  <tbody>\n",
              "    <tr>\n",
              "      <th>1999-11-01</th>\n",
              "      <td>0.714286</td>\n",
              "      <td>0.720446</td>\n",
              "      <td>0.690804</td>\n",
              "      <td>0.693036</td>\n",
              "      <td>278577600.0</td>\n",
              "      <td>NaN</td>\n",
              "      <td>278577600.0</td>\n",
              "    </tr>\n",
              "    <tr>\n",
              "      <th>1999-11-02</th>\n",
              "      <td>0.696429</td>\n",
              "      <td>0.729375</td>\n",
              "      <td>0.690268</td>\n",
              "      <td>0.716518</td>\n",
              "      <td>399235200.0</td>\n",
              "      <td>NaN</td>\n",
              "      <td>399235200.0</td>\n",
              "    </tr>\n",
              "    <tr>\n",
              "      <th>1999-11-03</th>\n",
              "      <td>0.728750</td>\n",
              "      <td>0.743304</td>\n",
              "      <td>0.723214</td>\n",
              "      <td>0.727679</td>\n",
              "      <td>328462400.0</td>\n",
              "      <td>NaN</td>\n",
              "      <td>328462400.0</td>\n",
              "    </tr>\n",
              "    <tr>\n",
              "      <th>1999-11-04</th>\n",
              "      <td>0.732679</td>\n",
              "      <td>0.762232</td>\n",
              "      <td>0.719821</td>\n",
              "      <td>0.746607</td>\n",
              "      <td>379086400.0</td>\n",
              "      <td>NaN</td>\n",
              "      <td>379086400.0</td>\n",
              "    </tr>\n",
              "    <tr>\n",
              "      <th>1999-11-05</th>\n",
              "      <td>0.755536</td>\n",
              "      <td>0.789018</td>\n",
              "      <td>0.750000</td>\n",
              "      <td>0.788482</td>\n",
              "      <td>416808000.0</td>\n",
              "      <td>NaN</td>\n",
              "      <td>416808000.0</td>\n",
              "    </tr>\n",
              "    <tr>\n",
              "      <th>...</th>\n",
              "      <td>...</td>\n",
              "      <td>...</td>\n",
              "      <td>...</td>\n",
              "      <td>...</td>\n",
              "      <td>...</td>\n",
              "      <td>...</td>\n",
              "      <td>...</td>\n",
              "    </tr>\n",
              "    <tr>\n",
              "      <th>2022-03-22</th>\n",
              "      <td>165.510000</td>\n",
              "      <td>169.420000</td>\n",
              "      <td>164.910000</td>\n",
              "      <td>168.820000</td>\n",
              "      <td>80979755.0</td>\n",
              "      <td>NaN</td>\n",
              "      <td>80979755.0</td>\n",
              "    </tr>\n",
              "    <tr>\n",
              "      <th>2022-03-23</th>\n",
              "      <td>167.990000</td>\n",
              "      <td>172.640000</td>\n",
              "      <td>167.650000</td>\n",
              "      <td>170.210000</td>\n",
              "      <td>98062674.0</td>\n",
              "      <td>NaN</td>\n",
              "      <td>98062674.0</td>\n",
              "    </tr>\n",
              "    <tr>\n",
              "      <th>2022-03-24</th>\n",
              "      <td>171.060000</td>\n",
              "      <td>174.140000</td>\n",
              "      <td>170.210000</td>\n",
              "      <td>174.070000</td>\n",
              "      <td>90131418.0</td>\n",
              "      <td>NaN</td>\n",
              "      <td>90131418.0</td>\n",
              "    </tr>\n",
              "    <tr>\n",
              "      <th>2022-03-25</th>\n",
              "      <td>173.880000</td>\n",
              "      <td>175.280000</td>\n",
              "      <td>172.750000</td>\n",
              "      <td>174.720000</td>\n",
              "      <td>80281664.0</td>\n",
              "      <td>NaN</td>\n",
              "      <td>80281664.0</td>\n",
              "    </tr>\n",
              "    <tr>\n",
              "      <th>2022-03-28</th>\n",
              "      <td>172.170000</td>\n",
              "      <td>175.730000</td>\n",
              "      <td>172.000000</td>\n",
              "      <td>175.600000</td>\n",
              "      <td>90371916.0</td>\n",
              "      <td>NaN</td>\n",
              "      <td>90371916.0</td>\n",
              "    </tr>\n",
              "  </tbody>\n",
              "</table>\n",
              "<p>5638 rows × 7 columns</p>\n",
              "</div>\n",
              "      <button class=\"colab-df-convert\" onclick=\"convertToInteractive('df-25591704-224c-4fc5-974f-800a00abeda0')\"\n",
              "              title=\"Convert this dataframe to an interactive table.\"\n",
              "              style=\"display:none;\">\n",
              "        \n",
              "  <svg xmlns=\"http://www.w3.org/2000/svg\" height=\"24px\"viewBox=\"0 0 24 24\"\n",
              "       width=\"24px\">\n",
              "    <path d=\"M0 0h24v24H0V0z\" fill=\"none\"/>\n",
              "    <path d=\"M18.56 5.44l.94 2.06.94-2.06 2.06-.94-2.06-.94-.94-2.06-.94 2.06-2.06.94zm-11 1L8.5 8.5l.94-2.06 2.06-.94-2.06-.94L8.5 2.5l-.94 2.06-2.06.94zm10 10l.94 2.06.94-2.06 2.06-.94-2.06-.94-.94-2.06-.94 2.06-2.06.94z\"/><path d=\"M17.41 7.96l-1.37-1.37c-.4-.4-.92-.59-1.43-.59-.52 0-1.04.2-1.43.59L10.3 9.45l-7.72 7.72c-.78.78-.78 2.05 0 2.83L4 21.41c.39.39.9.59 1.41.59.51 0 1.02-.2 1.41-.59l7.78-7.78 2.81-2.81c.8-.78.8-2.07 0-2.86zM5.41 20L4 18.59l7.72-7.72 1.47 1.35L5.41 20z\"/>\n",
              "  </svg>\n",
              "      </button>\n",
              "      \n",
              "  <style>\n",
              "    .colab-df-container {\n",
              "      display:flex;\n",
              "      flex-wrap:wrap;\n",
              "      gap: 12px;\n",
              "    }\n",
              "\n",
              "    .colab-df-convert {\n",
              "      background-color: #E8F0FE;\n",
              "      border: none;\n",
              "      border-radius: 50%;\n",
              "      cursor: pointer;\n",
              "      display: none;\n",
              "      fill: #1967D2;\n",
              "      height: 32px;\n",
              "      padding: 0 0 0 0;\n",
              "      width: 32px;\n",
              "    }\n",
              "\n",
              "    .colab-df-convert:hover {\n",
              "      background-color: #E2EBFA;\n",
              "      box-shadow: 0px 1px 2px rgba(60, 64, 67, 0.3), 0px 1px 3px 1px rgba(60, 64, 67, 0.15);\n",
              "      fill: #174EA6;\n",
              "    }\n",
              "\n",
              "    [theme=dark] .colab-df-convert {\n",
              "      background-color: #3B4455;\n",
              "      fill: #D2E3FC;\n",
              "    }\n",
              "\n",
              "    [theme=dark] .colab-df-convert:hover {\n",
              "      background-color: #434B5C;\n",
              "      box-shadow: 0px 1px 3px 1px rgba(0, 0, 0, 0.15);\n",
              "      filter: drop-shadow(0px 1px 2px rgba(0, 0, 0, 0.3));\n",
              "      fill: #FFFFFF;\n",
              "    }\n",
              "  </style>\n",
              "\n",
              "      <script>\n",
              "        const buttonEl =\n",
              "          document.querySelector('#df-25591704-224c-4fc5-974f-800a00abeda0 button.colab-df-convert');\n",
              "        buttonEl.style.display =\n",
              "          google.colab.kernel.accessAllowed ? 'block' : 'none';\n",
              "\n",
              "        async function convertToInteractive(key) {\n",
              "          const element = document.querySelector('#df-25591704-224c-4fc5-974f-800a00abeda0');\n",
              "          const dataTable =\n",
              "            await google.colab.kernel.invokeFunction('convertToInteractive',\n",
              "                                                     [key], {});\n",
              "          if (!dataTable) return;\n",
              "\n",
              "          const docLinkHtml = 'Like what you see? Visit the ' +\n",
              "            '<a target=\"_blank\" href=https://colab.research.google.com/notebooks/data_table.ipynb>data table notebook</a>'\n",
              "            + ' to learn more about interactive tables.';\n",
              "          element.innerHTML = '';\n",
              "          dataTable['output_type'] = 'display_data';\n",
              "          await google.colab.output.renderOutput(dataTable, element);\n",
              "          const docLink = document.createElement('div');\n",
              "          docLink.innerHTML = docLinkHtml;\n",
              "          element.appendChild(docLink);\n",
              "        }\n",
              "      </script>\n",
              "    </div>\n",
              "  </div>\n",
              "  "
            ]
          },
          "metadata": {},
          "execution_count": 74
        }
      ],
      "source": [
        "df = df.iloc[::-1]\n",
        "df"
      ]
    },
    {
      "cell_type": "code",
      "execution_count": null,
      "metadata": {
        "colab": {
          "base_uri": "https://localhost:8080/",
          "height": 423
        },
        "id": "fsU9d3u0HdYj",
        "outputId": "eb586a43-7178-4337-e301-dee2fadf255b"
      },
      "outputs": [
        {
          "output_type": "execute_result",
          "data": {
            "text/plain": [
              "     Target Date    Target-3    Target-2    Target-1      Target\n",
              "0     2009-01-25    2.792857    2.958214    3.155714    3.155714\n",
              "1     2009-01-27    3.155714    3.155714    3.201429    3.240357\n",
              "2     2009-01-28    3.155714    3.201429    3.240357    3.364286\n",
              "3     2009-01-29    3.201429    3.240357    3.364286    3.321429\n",
              "4     2009-01-30    3.240357    3.364286    3.321429    3.218929\n",
              "...          ...         ...         ...         ...         ...\n",
              "3309  2022-03-17  150.620000  155.090000  159.590000  160.620000\n",
              "3310  2022-03-18  155.090000  159.590000  160.620000  163.980000\n",
              "3311  2022-03-21  159.590000  160.620000  163.980000  165.380000\n",
              "3312  2022-03-22  160.620000  163.980000  165.380000  168.820000\n",
              "3313  2022-03-23  163.980000  165.380000  168.820000  170.210000\n",
              "\n",
              "[3314 rows x 5 columns]"
            ],
            "text/html": [
              "\n",
              "  <div id=\"df-f2f5f8ad-9a8a-42ef-a061-693f83bb8177\">\n",
              "    <div class=\"colab-df-container\">\n",
              "      <div>\n",
              "<style scoped>\n",
              "    .dataframe tbody tr th:only-of-type {\n",
              "        vertical-align: middle;\n",
              "    }\n",
              "\n",
              "    .dataframe tbody tr th {\n",
              "        vertical-align: top;\n",
              "    }\n",
              "\n",
              "    .dataframe thead th {\n",
              "        text-align: right;\n",
              "    }\n",
              "</style>\n",
              "<table border=\"1\" class=\"dataframe\">\n",
              "  <thead>\n",
              "    <tr style=\"text-align: right;\">\n",
              "      <th></th>\n",
              "      <th>Target Date</th>\n",
              "      <th>Target-3</th>\n",
              "      <th>Target-2</th>\n",
              "      <th>Target-1</th>\n",
              "      <th>Target</th>\n",
              "    </tr>\n",
              "  </thead>\n",
              "  <tbody>\n",
              "    <tr>\n",
              "      <th>0</th>\n",
              "      <td>2009-01-25</td>\n",
              "      <td>2.792857</td>\n",
              "      <td>2.958214</td>\n",
              "      <td>3.155714</td>\n",
              "      <td>3.155714</td>\n",
              "    </tr>\n",
              "    <tr>\n",
              "      <th>1</th>\n",
              "      <td>2009-01-27</td>\n",
              "      <td>3.155714</td>\n",
              "      <td>3.155714</td>\n",
              "      <td>3.201429</td>\n",
              "      <td>3.240357</td>\n",
              "    </tr>\n",
              "    <tr>\n",
              "      <th>2</th>\n",
              "      <td>2009-01-28</td>\n",
              "      <td>3.155714</td>\n",
              "      <td>3.201429</td>\n",
              "      <td>3.240357</td>\n",
              "      <td>3.364286</td>\n",
              "    </tr>\n",
              "    <tr>\n",
              "      <th>3</th>\n",
              "      <td>2009-01-29</td>\n",
              "      <td>3.201429</td>\n",
              "      <td>3.240357</td>\n",
              "      <td>3.364286</td>\n",
              "      <td>3.321429</td>\n",
              "    </tr>\n",
              "    <tr>\n",
              "      <th>4</th>\n",
              "      <td>2009-01-30</td>\n",
              "      <td>3.240357</td>\n",
              "      <td>3.364286</td>\n",
              "      <td>3.321429</td>\n",
              "      <td>3.218929</td>\n",
              "    </tr>\n",
              "    <tr>\n",
              "      <th>...</th>\n",
              "      <td>...</td>\n",
              "      <td>...</td>\n",
              "      <td>...</td>\n",
              "      <td>...</td>\n",
              "      <td>...</td>\n",
              "    </tr>\n",
              "    <tr>\n",
              "      <th>3309</th>\n",
              "      <td>2022-03-17</td>\n",
              "      <td>150.620000</td>\n",
              "      <td>155.090000</td>\n",
              "      <td>159.590000</td>\n",
              "      <td>160.620000</td>\n",
              "    </tr>\n",
              "    <tr>\n",
              "      <th>3310</th>\n",
              "      <td>2022-03-18</td>\n",
              "      <td>155.090000</td>\n",
              "      <td>159.590000</td>\n",
              "      <td>160.620000</td>\n",
              "      <td>163.980000</td>\n",
              "    </tr>\n",
              "    <tr>\n",
              "      <th>3311</th>\n",
              "      <td>2022-03-21</td>\n",
              "      <td>159.590000</td>\n",
              "      <td>160.620000</td>\n",
              "      <td>163.980000</td>\n",
              "      <td>165.380000</td>\n",
              "    </tr>\n",
              "    <tr>\n",
              "      <th>3312</th>\n",
              "      <td>2022-03-22</td>\n",
              "      <td>160.620000</td>\n",
              "      <td>163.980000</td>\n",
              "      <td>165.380000</td>\n",
              "      <td>168.820000</td>\n",
              "    </tr>\n",
              "    <tr>\n",
              "      <th>3313</th>\n",
              "      <td>2022-03-23</td>\n",
              "      <td>163.980000</td>\n",
              "      <td>165.380000</td>\n",
              "      <td>168.820000</td>\n",
              "      <td>170.210000</td>\n",
              "    </tr>\n",
              "  </tbody>\n",
              "</table>\n",
              "<p>3314 rows × 5 columns</p>\n",
              "</div>\n",
              "      <button class=\"colab-df-convert\" onclick=\"convertToInteractive('df-f2f5f8ad-9a8a-42ef-a061-693f83bb8177')\"\n",
              "              title=\"Convert this dataframe to an interactive table.\"\n",
              "              style=\"display:none;\">\n",
              "        \n",
              "  <svg xmlns=\"http://www.w3.org/2000/svg\" height=\"24px\"viewBox=\"0 0 24 24\"\n",
              "       width=\"24px\">\n",
              "    <path d=\"M0 0h24v24H0V0z\" fill=\"none\"/>\n",
              "    <path d=\"M18.56 5.44l.94 2.06.94-2.06 2.06-.94-2.06-.94-.94-2.06-.94 2.06-2.06.94zm-11 1L8.5 8.5l.94-2.06 2.06-.94-2.06-.94L8.5 2.5l-.94 2.06-2.06.94zm10 10l.94 2.06.94-2.06 2.06-.94-2.06-.94-.94-2.06-.94 2.06-2.06.94z\"/><path d=\"M17.41 7.96l-1.37-1.37c-.4-.4-.92-.59-1.43-.59-.52 0-1.04.2-1.43.59L10.3 9.45l-7.72 7.72c-.78.78-.78 2.05 0 2.83L4 21.41c.39.39.9.59 1.41.59.51 0 1.02-.2 1.41-.59l7.78-7.78 2.81-2.81c.8-.78.8-2.07 0-2.86zM5.41 20L4 18.59l7.72-7.72 1.47 1.35L5.41 20z\"/>\n",
              "  </svg>\n",
              "      </button>\n",
              "      \n",
              "  <style>\n",
              "    .colab-df-container {\n",
              "      display:flex;\n",
              "      flex-wrap:wrap;\n",
              "      gap: 12px;\n",
              "    }\n",
              "\n",
              "    .colab-df-convert {\n",
              "      background-color: #E8F0FE;\n",
              "      border: none;\n",
              "      border-radius: 50%;\n",
              "      cursor: pointer;\n",
              "      display: none;\n",
              "      fill: #1967D2;\n",
              "      height: 32px;\n",
              "      padding: 0 0 0 0;\n",
              "      width: 32px;\n",
              "    }\n",
              "\n",
              "    .colab-df-convert:hover {\n",
              "      background-color: #E2EBFA;\n",
              "      box-shadow: 0px 1px 2px rgba(60, 64, 67, 0.3), 0px 1px 3px 1px rgba(60, 64, 67, 0.15);\n",
              "      fill: #174EA6;\n",
              "    }\n",
              "\n",
              "    [theme=dark] .colab-df-convert {\n",
              "      background-color: #3B4455;\n",
              "      fill: #D2E3FC;\n",
              "    }\n",
              "\n",
              "    [theme=dark] .colab-df-convert:hover {\n",
              "      background-color: #434B5C;\n",
              "      box-shadow: 0px 1px 3px 1px rgba(0, 0, 0, 0.15);\n",
              "      filter: drop-shadow(0px 1px 2px rgba(0, 0, 0, 0.3));\n",
              "      fill: #FFFFFF;\n",
              "    }\n",
              "  </style>\n",
              "\n",
              "      <script>\n",
              "        const buttonEl =\n",
              "          document.querySelector('#df-f2f5f8ad-9a8a-42ef-a061-693f83bb8177 button.colab-df-convert');\n",
              "        buttonEl.style.display =\n",
              "          google.colab.kernel.accessAllowed ? 'block' : 'none';\n",
              "\n",
              "        async function convertToInteractive(key) {\n",
              "          const element = document.querySelector('#df-f2f5f8ad-9a8a-42ef-a061-693f83bb8177');\n",
              "          const dataTable =\n",
              "            await google.colab.kernel.invokeFunction('convertToInteractive',\n",
              "                                                     [key], {});\n",
              "          if (!dataTable) return;\n",
              "\n",
              "          const docLinkHtml = 'Like what you see? Visit the ' +\n",
              "            '<a target=\"_blank\" href=https://colab.research.google.com/notebooks/data_table.ipynb>data table notebook</a>'\n",
              "            + ' to learn more about interactive tables.';\n",
              "          element.innerHTML = '';\n",
              "          dataTable['output_type'] = 'display_data';\n",
              "          await google.colab.output.renderOutput(dataTable, element);\n",
              "          const docLink = document.createElement('div');\n",
              "          docLink.innerHTML = docLinkHtml;\n",
              "          element.appendChild(docLink);\n",
              "        }\n",
              "      </script>\n",
              "    </div>\n",
              "  </div>\n",
              "  "
            ]
          },
          "metadata": {},
          "execution_count": 75
        }
      ],
      "source": [
        "import numpy as np\n",
        "\n",
        "def df_to_windowed_df(dataframe, first_date_str, last_date_str, n=3):\n",
        "  first_date = str_to_datetime(first_date_str)\n",
        "  last_date  = str_to_datetime(last_date_str)\n",
        "\n",
        "  target_date = first_date\n",
        "  \n",
        "  dates = []\n",
        "  X, Y = [], []\n",
        "\n",
        "  last_time = False\n",
        "  while True:\n",
        "    df_subset = dataframe.loc[:target_date].tail(n+1)\n",
        "    \n",
        "    if len(df_subset) != n+1:\n",
        "      print(f'Error: Window of size {n} is too large for date {target_date}')\n",
        "      return\n",
        "\n",
        "    values = df_subset['Close'].to_numpy()\n",
        "    x, y = values[:-1], values[-1]\n",
        "\n",
        "    dates.append(target_date)\n",
        "    X.append(x)\n",
        "    Y.append(y)\n",
        "\n",
        "    next_week = dataframe.loc[target_date:target_date+datetime.timedelta(days=7)]\n",
        "    next_datetime_str = str(next_week.head(2).tail(1).index.values[0])\n",
        "    next_date_str = next_datetime_str.split('T')[0]\n",
        "    year_month_day = next_date_str.split('-')\n",
        "    year, month, day = year_month_day\n",
        "    next_date = datetime.datetime(day=int(day), month=int(month), year=int(year))\n",
        "    \n",
        "    if last_time:\n",
        "      break\n",
        "    \n",
        "    target_date = next_date\n",
        "\n",
        "    if target_date == last_date:\n",
        "      last_time = True\n",
        "    \n",
        "  ret_df = pd.DataFrame({})\n",
        "  ret_df['Target Date'] = dates\n",
        "  \n",
        "  X = np.array(X)\n",
        "  for i in range(0, n):\n",
        "    X[:, i]\n",
        "    ret_df[f'Target-{n-i}'] = X[:, i]\n",
        "  \n",
        "  ret_df['Target'] = Y\n",
        "\n",
        "  return ret_df\n",
        "\n",
        "# Start day second time around: '2021-03-25'\n",
        "windowed_df = df_to_windowed_df(df, \n",
        "                                '2009-01-25', \n",
        "                                '2022-03-23', \n",
        "                                n=3)\n",
        "windowed_df"
      ]
    },
    {
      "cell_type": "code",
      "execution_count": null,
      "metadata": {
        "colab": {
          "base_uri": "https://localhost:8080/"
        },
        "id": "uD17zIbaIZ6n",
        "outputId": "1953f529-a036-4641-c34f-9966d0d6c83c"
      },
      "outputs": [
        {
          "output_type": "execute_result",
          "data": {
            "text/plain": [
              "((3314,), (3314, 3, 1), (3314,))"
            ]
          },
          "metadata": {},
          "execution_count": 76
        }
      ],
      "source": [
        "def windowed_df_to_date_X_y(windowed_dataframe):\n",
        "  df_as_np = windowed_dataframe.to_numpy()\n",
        "\n",
        "  dates = df_as_np[:, 0]\n",
        "\n",
        "  middle_matrix = df_as_np[:, 1:-1]\n",
        "  X = middle_matrix.reshape((len(dates), middle_matrix.shape[1], 1))\n",
        "\n",
        "  Y = df_as_np[:, -1]\n",
        "\n",
        "  return dates, X.astype(np.float32), Y.astype(np.float32)\n",
        "\n",
        "dates, X, y = windowed_df_to_date_X_y(windowed_df)\n",
        "\n",
        "dates.shape, X.shape, y.shape"
      ]
    },
    {
      "cell_type": "code",
      "execution_count": null,
      "metadata": {
        "colab": {
          "base_uri": "https://localhost:8080/",
          "height": 282
        },
        "id": "LPHWfwZeMZSS",
        "outputId": "3b51225d-2585-4431-ad86-e4b5fb0a98ec"
      },
      "outputs": [
        {
          "output_type": "execute_result",
          "data": {
            "text/plain": [
              "<matplotlib.legend.Legend at 0x7f4834b3d450>"
            ]
          },
          "metadata": {},
          "execution_count": 77
        },
        {
          "output_type": "display_data",
          "data": {
            "text/plain": [
              "<Figure size 432x288 with 1 Axes>"
            ],
            "image/png": "[encoded data removed]"
          },
          "metadata": {
            "needs_background": "light"
          }
        }
      ],
      "source": [
        "q_80 = int(len(dates) * .8)\n",
        "q_90 = int(len(dates) * .9)\n",
        "\n",
        "dates_train, X_train, y_train = dates[:q_80], X[:q_80], y[:q_80]\n",
        "\n",
        "dates_val, X_val, y_val = dates[q_80:q_90], X[q_80:q_90], y[q_80:q_90]\n",
        "dates_test, X_test, y_test = dates[q_90:], X[q_90:], y[q_90:]\n",
        "\n",
        "plt.plot(dates_train, y_train)\n",
        "plt.plot(dates_val, y_val)\n",
        "plt.plot(dates_test, y_test)\n",
        "\n",
        "plt.legend(['Train', 'Validation', 'Test'])"
      ]
    },
    {
      "cell_type": "code",
      "execution_count": null,
      "metadata": {
        "colab": {
          "base_uri": "https://localhost:8080/"
        },
        "id": "PGiLbQIYOawE",
        "outputId": "67b21db6-d2b7-4ec8-f366-d1ed685fc8c5"
      },
      "outputs": [
        {
          "output_type": "stream",
          "name": "stdout",
          "text": [
            "Epoch 1/100\n",
            "83/83 [==============================] - 3s 10ms/step - loss: 418.2424 - mean_absolute_error: 15.9501 - val_loss: 3278.6130 - val_mean_absolute_error: 52.0947\n",
            "Epoch 2/100\n",
            "83/83 [==============================] - 0s 5ms/step - loss: 9.4626 - mean_absolute_error: 1.3673 - val_loss: 1341.0024 - val_mean_absolute_error: 28.9618\n",
            "Epoch 3/100\n",
            "83/83 [==============================] - 0s 5ms/step - loss: 0.3873 - mean_absolute_error: 0.3783 - val_loss: 1212.1323 - val_mean_absolute_error: 26.9243\n",
            "Epoch 4/100\n",
            "83/83 [==============================] - 0s 5ms/step - loss: 0.2919 - mean_absolute_error: 0.3447 - val_loss: 1151.2823 - val_mean_absolute_error: 25.8226\n",
            "Epoch 5/100\n",
            "83/83 [==============================] - 0s 5ms/step - loss: 0.2740 - mean_absolute_error: 0.3418 - val_loss: 1114.5375 - val_mean_absolute_error: 25.2098\n",
            "Epoch 6/100\n",
            "83/83 [==============================] - 0s 5ms/step - loss: 0.2946 - mean_absolute_error: 0.3685 - val_loss: 1094.2729 - val_mean_absolute_error: 24.9403\n",
            "Epoch 7/100\n",
            "83/83 [==============================] - 0s 5ms/step - loss: 0.2676 - mean_absolute_error: 0.3480 - val_loss: 1078.3473 - val_mean_absolute_error: 24.6868\n",
            "Epoch 8/100\n",
            "83/83 [==============================] - 0s 5ms/step - loss: 0.2525 - mean_absolute_error: 0.3314 - val_loss: 1067.6177 - val_mean_absolute_error: 24.4792\n",
            "Epoch 9/100\n",
            "83/83 [==============================] - 0s 5ms/step - loss: 0.2487 - mean_absolute_error: 0.3299 - val_loss: 1053.4673 - val_mean_absolute_error: 24.1854\n",
            "Epoch 10/100\n",
            "83/83 [==============================] - 0s 5ms/step - loss: 0.2292 - mean_absolute_error: 0.3156 - val_loss: 1049.5355 - val_mean_absolute_error: 24.2620\n",
            "Epoch 11/100\n",
            "83/83 [==============================] - 0s 4ms/step - loss: 0.2651 - mean_absolute_error: 0.3440 - val_loss: 1037.7570 - val_mean_absolute_error: 23.8849\n",
            "Epoch 12/100\n",
            "83/83 [==============================] - 0s 5ms/step - loss: 0.2529 - mean_absolute_error: 0.3393 - val_loss: 1029.4431 - val_mean_absolute_error: 23.7641\n",
            "Epoch 13/100\n",
            "83/83 [==============================] - 0s 5ms/step - loss: 0.2391 - mean_absolute_error: 0.3204 - val_loss: 1029.6639 - val_mean_absolute_error: 23.7698\n",
            "Epoch 14/100\n",
            "83/83 [==============================] - 0s 5ms/step - loss: 0.2299 - mean_absolute_error: 0.3163 - val_loss: 1028.3010 - val_mean_absolute_error: 23.8046\n",
            "Epoch 15/100\n",
            "83/83 [==============================] - 0s 5ms/step - loss: 0.2292 - mean_absolute_error: 0.3120 - val_loss: 1021.9883 - val_mean_absolute_error: 23.6347\n",
            "Epoch 16/100\n",
            "83/83 [==============================] - 0s 4ms/step - loss: 0.2457 - mean_absolute_error: 0.3301 - val_loss: 1029.7111 - val_mean_absolute_error: 23.7826\n",
            "Epoch 17/100\n",
            "83/83 [==============================] - 0s 5ms/step - loss: 0.2633 - mean_absolute_error: 0.3395 - val_loss: 1025.4294 - val_mean_absolute_error: 23.6990\n",
            "Epoch 18/100\n",
            "83/83 [==============================] - 0s 5ms/step - loss: 0.2384 - mean_absolute_error: 0.3237 - val_loss: 1017.0366 - val_mean_absolute_error: 23.5385\n",
            "Epoch 19/100\n",
            "83/83 [==============================] - 0s 5ms/step - loss: 0.2371 - mean_absolute_error: 0.3229 - val_loss: 1020.2572 - val_mean_absolute_error: 23.6289\n",
            "Epoch 20/100\n",
            "83/83 [==============================] - 0s 5ms/step - loss: 0.2426 - mean_absolute_error: 0.3309 - val_loss: 1022.1238 - val_mean_absolute_error: 23.6313\n",
            "Epoch 21/100\n",
            "83/83 [==============================] - 0s 5ms/step - loss: 0.2826 - mean_absolute_error: 0.3648 - val_loss: 1023.3115 - val_mean_absolute_error: 23.6482\n",
            "Epoch 22/100\n",
            "83/83 [==============================] - 0s 5ms/step - loss: 0.2377 - mean_absolute_error: 0.3216 - val_loss: 1026.5471 - val_mean_absolute_error: 23.7396\n",
            "Epoch 23/100\n",
            "83/83 [==============================] - 0s 5ms/step - loss: 0.2410 - mean_absolute_error: 0.3228 - val_loss: 1021.7626 - val_mean_absolute_error: 23.7003\n",
            "Epoch 24/100\n",
            "83/83 [==============================] - 0s 5ms/step - loss: 0.2486 - mean_absolute_error: 0.3310 - val_loss: 1023.6065 - val_mean_absolute_error: 23.7809\n",
            "Epoch 25/100\n",
            "83/83 [==============================] - 0s 5ms/step - loss: 0.2440 - mean_absolute_error: 0.3302 - val_loss: 1015.8127 - val_mean_absolute_error: 23.5079\n",
            "Epoch 26/100\n",
            "83/83 [==============================] - 0s 5ms/step - loss: 0.2443 - mean_absolute_error: 0.3309 - val_loss: 1007.0933 - val_mean_absolute_error: 23.3187\n",
            "Epoch 27/100\n",
            "83/83 [==============================] - 0s 5ms/step - loss: 0.2486 - mean_absolute_error: 0.3310 - val_loss: 1020.6439 - val_mean_absolute_error: 23.5854\n",
            "Epoch 28/100\n",
            "83/83 [==============================] - 0s 5ms/step - loss: 0.2267 - mean_absolute_error: 0.3119 - val_loss: 1010.3418 - val_mean_absolute_error: 23.3788\n",
            "Epoch 29/100\n",
            "83/83 [==============================] - 0s 4ms/step - loss: 0.3224 - mean_absolute_error: 0.3911 - val_loss: 1035.0115 - val_mean_absolute_error: 23.8184\n",
            "Epoch 30/100\n",
            "83/83 [==============================] - 0s 5ms/step - loss: 0.2449 - mean_absolute_error: 0.3303 - val_loss: 1025.1660 - val_mean_absolute_error: 23.6750\n",
            "Epoch 31/100\n",
            "83/83 [==============================] - 0s 4ms/step - loss: 0.2302 - mean_absolute_error: 0.3146 - val_loss: 1014.9330 - val_mean_absolute_error: 23.4587\n",
            "Epoch 32/100\n",
            "83/83 [==============================] - 0s 5ms/step - loss: 0.2517 - mean_absolute_error: 0.3361 - val_loss: 1018.3380 - val_mean_absolute_error: 23.4888\n",
            "Epoch 33/100\n",
            "83/83 [==============================] - 0s 5ms/step - loss: 0.2451 - mean_absolute_error: 0.3305 - val_loss: 1022.9582 - val_mean_absolute_error: 23.5650\n",
            "Epoch 34/100\n",
            "83/83 [==============================] - 0s 5ms/step - loss: 0.2374 - mean_absolute_error: 0.3244 - val_loss: 1019.0751 - val_mean_absolute_error: 23.5316\n",
            "Epoch 35/100\n",
            "83/83 [==============================] - 0s 5ms/step - loss: 0.2511 - mean_absolute_error: 0.3293 - val_loss: 1012.9931 - val_mean_absolute_error: 23.4080\n",
            "Epoch 36/100\n",
            "83/83 [==============================] - 0s 5ms/step - loss: 0.2401 - mean_absolute_error: 0.3276 - val_loss: 1020.9282 - val_mean_absolute_error: 23.6097\n",
            "Epoch 37/100\n",
            "83/83 [==============================] - 0s 5ms/step - loss: 0.3116 - mean_absolute_error: 0.3915 - val_loss: 1023.9898 - val_mean_absolute_error: 23.5418\n",
            "Epoch 38/100\n",
            "83/83 [==============================] - 0s 5ms/step - loss: 0.2438 - mean_absolute_error: 0.3337 - val_loss: 1018.7355 - val_mean_absolute_error: 23.4218\n",
            "Epoch 39/100\n",
            "83/83 [==============================] - 0s 5ms/step - loss: 0.2486 - mean_absolute_error: 0.3303 - val_loss: 1022.1442 - val_mean_absolute_error: 23.5227\n",
            "Epoch 40/100\n",
            "83/83 [==============================] - 0s 5ms/step - loss: 0.2209 - mean_absolute_error: 0.3029 - val_loss: 1016.7302 - val_mean_absolute_error: 23.4304\n",
            "Epoch 41/100\n",
            "83/83 [==============================] - 0s 5ms/step - loss: 0.2236 - mean_absolute_error: 0.3097 - val_loss: 1000.2062 - val_mean_absolute_error: 23.0837\n",
            "Epoch 42/100\n",
            "83/83 [==============================] - 0s 5ms/step - loss: 0.2652 - mean_absolute_error: 0.3456 - val_loss: 1016.5451 - val_mean_absolute_error: 23.4003\n",
            "Epoch 43/100\n",
            "83/83 [==============================] - 0s 5ms/step - loss: 0.2406 - mean_absolute_error: 0.3282 - val_loss: 1010.2514 - val_mean_absolute_error: 23.2822\n",
            "Epoch 44/100\n",
            "83/83 [==============================] - 0s 5ms/step - loss: 0.2441 - mean_absolute_error: 0.3340 - val_loss: 1017.0915 - val_mean_absolute_error: 23.3775\n",
            "Epoch 45/100\n",
            "83/83 [==============================] - 0s 5ms/step - loss: 0.2611 - mean_absolute_error: 0.3404 - val_loss: 1015.3365 - val_mean_absolute_error: 23.3467\n",
            "Epoch 46/100\n",
            "83/83 [==============================] - 0s 5ms/step - loss: 0.2275 - mean_absolute_error: 0.3108 - val_loss: 1016.0919 - val_mean_absolute_error: 23.4099\n",
            "Epoch 47/100\n",
            "83/83 [==============================] - 0s 5ms/step - loss: 0.2660 - mean_absolute_error: 0.3465 - val_loss: 1023.7574 - val_mean_absolute_error: 23.5022\n",
            "Epoch 48/100\n",
            "83/83 [==============================] - 0s 4ms/step - loss: 0.2344 - mean_absolute_error: 0.3239 - val_loss: 1015.0143 - val_mean_absolute_error: 23.2747\n",
            "Epoch 49/100\n",
            "83/83 [==============================] - 0s 5ms/step - loss: 0.2877 - mean_absolute_error: 0.3658 - val_loss: 1024.0181 - val_mean_absolute_error: 23.5107\n",
            "Epoch 50/100\n",
            "83/83 [==============================] - 0s 5ms/step - loss: 0.2482 - mean_absolute_error: 0.3359 - val_loss: 1029.6348 - val_mean_absolute_error: 23.5953\n",
            "Epoch 51/100\n",
            "83/83 [==============================] - 0s 5ms/step - loss: 0.2340 - mean_absolute_error: 0.3175 - val_loss: 1024.8590 - val_mean_absolute_error: 23.4385\n",
            "Epoch 52/100\n",
            "83/83 [==============================] - 0s 5ms/step - loss: 0.2423 - mean_absolute_error: 0.3320 - val_loss: 1026.4012 - val_mean_absolute_error: 23.4683\n",
            "Epoch 53/100\n",
            "83/83 [==============================] - 0s 5ms/step - loss: 0.2447 - mean_absolute_error: 0.3313 - val_loss: 1022.8370 - val_mean_absolute_error: 23.3850\n",
            "Epoch 54/100\n",
            "83/83 [==============================] - 0s 5ms/step - loss: 0.3086 - mean_absolute_error: 0.3844 - val_loss: 1032.9551 - val_mean_absolute_error: 23.6421\n",
            "Epoch 55/100\n",
            "83/83 [==============================] - 0s 5ms/step - loss: 0.2454 - mean_absolute_error: 0.3299 - val_loss: 1020.6595 - val_mean_absolute_error: 23.3522\n",
            "Epoch 56/100\n",
            "83/83 [==============================] - 0s 5ms/step - loss: 0.2589 - mean_absolute_error: 0.3449 - val_loss: 1014.3583 - val_mean_absolute_error: 23.2631\n",
            "Epoch 57/100\n",
            "83/83 [==============================] - 0s 5ms/step - loss: 0.2660 - mean_absolute_error: 0.3517 - val_loss: 1024.6812 - val_mean_absolute_error: 23.4143\n",
            "Epoch 58/100\n",
            "83/83 [==============================] - 0s 5ms/step - loss: 0.2308 - mean_absolute_error: 0.3140 - val_loss: 1012.5948 - val_mean_absolute_error: 23.2062\n",
            "Epoch 59/100\n",
            "83/83 [==============================] - 0s 5ms/step - loss: 0.2427 - mean_absolute_error: 0.3317 - val_loss: 1017.8519 - val_mean_absolute_error: 23.3866\n",
            "Epoch 60/100\n",
            "83/83 [==============================] - 0s 5ms/step - loss: 0.2265 - mean_absolute_error: 0.3176 - val_loss: 1008.8818 - val_mean_absolute_error: 23.2125\n",
            "Epoch 61/100\n",
            "83/83 [==============================] - 0s 5ms/step - loss: 0.2377 - mean_absolute_error: 0.3272 - val_loss: 994.0341 - val_mean_absolute_error: 22.8998\n",
            "Epoch 62/100\n",
            "83/83 [==============================] - 0s 5ms/step - loss: 0.2640 - mean_absolute_error: 0.3507 - val_loss: 1011.9672 - val_mean_absolute_error: 23.2117\n",
            "Epoch 63/100\n",
            "83/83 [==============================] - 0s 5ms/step - loss: 0.2529 - mean_absolute_error: 0.3317 - val_loss: 1009.3163 - val_mean_absolute_error: 23.1808\n",
            "Epoch 64/100\n",
            "83/83 [==============================] - 0s 5ms/step - loss: 0.2641 - mean_absolute_error: 0.3468 - val_loss: 1016.0463 - val_mean_absolute_error: 23.3347\n",
            "Epoch 65/100\n",
            "83/83 [==============================] - 0s 5ms/step - loss: 0.2639 - mean_absolute_error: 0.3468 - val_loss: 1005.6171 - val_mean_absolute_error: 23.0961\n",
            "Epoch 66/100\n",
            "83/83 [==============================] - 0s 5ms/step - loss: 0.2287 - mean_absolute_error: 0.3192 - val_loss: 1007.8533 - val_mean_absolute_error: 23.1289\n",
            "Epoch 67/100\n",
            "83/83 [==============================] - 0s 5ms/step - loss: 0.2755 - mean_absolute_error: 0.3594 - val_loss: 1023.5856 - val_mean_absolute_error: 23.4380\n",
            "Epoch 68/100\n",
            "83/83 [==============================] - 0s 5ms/step - loss: 0.2544 - mean_absolute_error: 0.3392 - val_loss: 1021.2372 - val_mean_absolute_error: 23.3102\n",
            "Epoch 69/100\n",
            "83/83 [==============================] - 0s 5ms/step - loss: 0.2358 - mean_absolute_error: 0.3290 - val_loss: 1023.7478 - val_mean_absolute_error: 23.3690\n",
            "Epoch 70/100\n",
            "83/83 [==============================] - 0s 5ms/step - loss: 0.2481 - mean_absolute_error: 0.3309 - val_loss: 1004.0995 - val_mean_absolute_error: 23.0456\n",
            "Epoch 71/100\n",
            "83/83 [==============================] - 0s 5ms/step - loss: 0.2137 - mean_absolute_error: 0.3010 - val_loss: 1018.2202 - val_mean_absolute_error: 23.3153\n",
            "Epoch 72/100\n",
            "83/83 [==============================] - 0s 5ms/step - loss: 0.2297 - mean_absolute_error: 0.3158 - val_loss: 1001.4014 - val_mean_absolute_error: 23.0274\n",
            "Epoch 73/100\n",
            "83/83 [==============================] - 0s 5ms/step - loss: 0.2316 - mean_absolute_error: 0.3190 - val_loss: 985.8681 - val_mean_absolute_error: 22.7409\n",
            "Epoch 74/100\n",
            "83/83 [==============================] - 0s 5ms/step - loss: 0.2187 - mean_absolute_error: 0.3068 - val_loss: 1000.7737 - val_mean_absolute_error: 23.0164\n",
            "Epoch 75/100\n",
            "83/83 [==============================] - 0s 5ms/step - loss: 0.3081 - mean_absolute_error: 0.3896 - val_loss: 1023.6162 - val_mean_absolute_error: 23.5385\n",
            "Epoch 76/100\n",
            "83/83 [==============================] - 0s 5ms/step - loss: 0.2333 - mean_absolute_error: 0.3213 - val_loss: 1007.5725 - val_mean_absolute_error: 23.1410\n",
            "Epoch 77/100\n",
            "83/83 [==============================] - 0s 5ms/step - loss: 0.2162 - mean_absolute_error: 0.3034 - val_loss: 993.6118 - val_mean_absolute_error: 22.8752\n",
            "Epoch 78/100\n",
            "83/83 [==============================] - 0s 5ms/step - loss: 0.2644 - mean_absolute_error: 0.3462 - val_loss: 991.9392 - val_mean_absolute_error: 22.9042\n",
            "Epoch 79/100\n",
            "83/83 [==============================] - 0s 5ms/step - loss: 0.2392 - mean_absolute_error: 0.3291 - val_loss: 1002.0503 - val_mean_absolute_error: 23.0504\n",
            "Epoch 80/100\n",
            "83/83 [==============================] - 0s 5ms/step - loss: 0.2814 - mean_absolute_error: 0.3702 - val_loss: 1001.9598 - val_mean_absolute_error: 23.0963\n",
            "Epoch 81/100\n",
            "83/83 [==============================] - 0s 5ms/step - loss: 0.2673 - mean_absolute_error: 0.3502 - val_loss: 1014.8840 - val_mean_absolute_error: 23.1969\n",
            "Epoch 82/100\n",
            "83/83 [==============================] - 0s 5ms/step - loss: 0.2455 - mean_absolute_error: 0.3292 - val_loss: 995.8108 - val_mean_absolute_error: 23.0347\n",
            "Epoch 83/100\n",
            "83/83 [==============================] - 0s 5ms/step - loss: 0.2384 - mean_absolute_error: 0.3248 - val_loss: 1001.3002 - val_mean_absolute_error: 23.0534\n",
            "Epoch 84/100\n",
            "83/83 [==============================] - 0s 5ms/step - loss: 0.2522 - mean_absolute_error: 0.3355 - val_loss: 1028.1381 - val_mean_absolute_error: 23.6127\n",
            "Epoch 85/100\n",
            "83/83 [==============================] - 0s 5ms/step - loss: 0.2416 - mean_absolute_error: 0.3279 - val_loss: 1000.8044 - val_mean_absolute_error: 23.0399\n",
            "Epoch 86/100\n",
            "83/83 [==============================] - 0s 5ms/step - loss: 0.2515 - mean_absolute_error: 0.3365 - val_loss: 997.3085 - val_mean_absolute_error: 23.0238\n",
            "Epoch 87/100\n",
            "83/83 [==============================] - 0s 5ms/step - loss: 0.2307 - mean_absolute_error: 0.3189 - val_loss: 985.7744 - val_mean_absolute_error: 22.6651\n",
            "Epoch 88/100\n",
            "83/83 [==============================] - 0s 5ms/step - loss: 0.2452 - mean_absolute_error: 0.3344 - val_loss: 994.8544 - val_mean_absolute_error: 22.8559\n",
            "Epoch 89/100\n",
            "83/83 [==============================] - 0s 5ms/step - loss: 0.2725 - mean_absolute_error: 0.3455 - val_loss: 978.1882 - val_mean_absolute_error: 22.5373\n",
            "Epoch 90/100\n",
            "83/83 [==============================] - 0s 5ms/step - loss: 0.2982 - mean_absolute_error: 0.3750 - val_loss: 993.7075 - val_mean_absolute_error: 22.9122\n",
            "Epoch 91/100\n",
            "83/83 [==============================] - 0s 5ms/step - loss: 0.2430 - mean_absolute_error: 0.3254 - val_loss: 987.9252 - val_mean_absolute_error: 22.8141\n",
            "Epoch 92/100\n",
            "83/83 [==============================] - 0s 5ms/step - loss: 0.2377 - mean_absolute_error: 0.3210 - val_loss: 988.0946 - val_mean_absolute_error: 22.7667\n",
            "Epoch 93/100\n",
            "83/83 [==============================] - 0s 5ms/step - loss: 0.2510 - mean_absolute_error: 0.3317 - val_loss: 1000.2520 - val_mean_absolute_error: 22.9865\n",
            "Epoch 94/100\n",
            "83/83 [==============================] - 0s 5ms/step - loss: 0.2392 - mean_absolute_error: 0.3274 - val_loss: 1009.2501 - val_mean_absolute_error: 23.1106\n",
            "Epoch 95/100\n",
            "83/83 [==============================] - 0s 4ms/step - loss: 0.2346 - mean_absolute_error: 0.3236 - val_loss: 1002.2450 - val_mean_absolute_error: 23.0425\n",
            "Epoch 96/100\n",
            "83/83 [==============================] - 0s 5ms/step - loss: 0.2352 - mean_absolute_error: 0.3224 - val_loss: 991.4644 - val_mean_absolute_error: 22.7798\n",
            "Epoch 97/100\n",
            "83/83 [==============================] - 0s 5ms/step - loss: 0.2630 - mean_absolute_error: 0.3503 - val_loss: 1001.7172 - val_mean_absolute_error: 23.0049\n",
            "Epoch 98/100\n",
            "83/83 [==============================] - 0s 5ms/step - loss: 0.2293 - mean_absolute_error: 0.3170 - val_loss: 1006.7661 - val_mean_absolute_error: 23.1547\n",
            "Epoch 99/100\n",
            "83/83 [==============================] - 0s 5ms/step - loss: 0.2403 - mean_absolute_error: 0.3292 - val_loss: 991.0012 - val_mean_absolute_error: 22.8677\n",
            "Epoch 100/100\n",
            "83/83 [==============================] - 0s 5ms/step - loss: 0.2244 - mean_absolute_error: 0.3112 - val_loss: 1002.6260 - val_mean_absolute_error: 23.0552\n"
          ]
        },
        {
          "output_type": "execute_result",
          "data": {
            "text/plain": [
              "<keras.callbacks.History at 0x7f48349b9150>"
            ]
          },
          "metadata": {},
          "execution_count": 78
        }
      ],
      "source": [
        "from tensorflow.keras.models import Sequential\n",
        "from tensorflow.keras.optimizers import Adam\n",
        "from tensorflow.keras import layers\n",
        "\n",
        "model = Sequential([layers.Input((3, 1)),\n",
        "                    layers.LSTM(64),\n",
        "                    layers.Dense(32, activation='relu'),\n",
        "                    layers.Dense(32, activation='relu'),\n",
        "                    layers.Dense(1)])\n",
        "\n",
        "model.compile(loss='mse', \n",
        "              optimizer=Adam(learning_rate=0.001),\n",
        "              metrics=['mean_absolute_error'])\n",
        "\n",
        "model.fit(X_train, y_train, validation_data=(X_val, y_val), epochs=100)"
      ]
    },
    {
      "cell_type": "code",
      "execution_count": null,
      "metadata": {
        "colab": {
          "base_uri": "https://localhost:8080/",
          "height": 285
        },
        "id": "gG8eOTzEVl_X",
        "outputId": "0989a44b-38a8-4697-938d-fd7393190e29"
      },
      "outputs": [
        {
          "output_type": "execute_result",
          "data": {
            "text/plain": [
              "<matplotlib.legend.Legend at 0x7f4832d70d90>"
            ]
          },
          "metadata": {},
          "execution_count": 79
        },
        {
          "output_type": "display_data",
          "data": {
            "text/plain": [
              "<Figure size 432x288 with 1 Axes>"
            ],
            "image/png": "[encoded data removed]"
          },
          "metadata": {
            "needs_background": "light"
          }
        }
      ],
      "source": [
        "train_predictions = model.predict(X_train).flatten()\n",
        "\n",
        "plt.plot(dates_train, train_predictions)\n",
        "plt.plot(dates_train, y_train)\n",
        "plt.legend(['Training Predictions', 'Training Observations'])"
      ]
    },
    {
      "cell_type": "code",
      "execution_count": null,
      "metadata": {
        "colab": {
          "base_uri": "https://localhost:8080/",
          "height": 282
        },
        "id": "UrRaAUbnWBhE",
        "outputId": "396db7cd-f2f6-4a16-e3c5-0c25e6f65087"
      },
      "outputs": [
        {
          "output_type": "execute_result",
          "data": {
            "text/plain": [
              "<matplotlib.legend.Legend at 0x7f4830443c50>"
            ]
          },
          "metadata": {},
          "execution_count": 80
        },
        {
          "output_type": "display_data",
          "data": {
            "text/plain": [
              "<Figure size 432x288 with 1 Axes>"
            ],
            "image/png": "[encoded data removed]"
          },
          "metadata": {
            "needs_background": "light"
          }
        }
      ],
      "source": [
        "val_predictions = model.predict(X_val).flatten()\n",
        "\n",
        "plt.plot(dates_val, val_predictions)\n",
        "plt.plot(dates_val, y_val)\n",
        "plt.legend(['Validation Predictions', 'Validation Observations'])"
      ]
    },
    {
      "cell_type": "code",
      "execution_count": null,
      "metadata": {
        "colab": {
          "base_uri": "https://localhost:8080/",
          "height": 282
        },
        "id": "wF5sDSxVWLFd",
        "outputId": "9fded90b-2877-4577-9036-9783a790882b"
      },
      "outputs": [
        {
          "output_type": "execute_result",
          "data": {
            "text/plain": [
              "<matplotlib.legend.Legend at 0x7f482fbb9d10>"
            ]
          },
          "metadata": {},
          "execution_count": 81
        },
        {
          "output_type": "display_data",
          "data": {
            "text/plain": [
              "<Figure size 432x288 with 1 Axes>"
            ],
            "image/png": "[encoded data removed]"
          },
          "metadata": {
            "needs_background": "light"
          }
        }
      ],
      "source": [
        "test_predictions = model.predict(X_test).flatten()\n",
        "\n",
        "plt.plot(dates_test, test_predictions)\n",
        "plt.plot(dates_test, y_test)\n",
        "plt.legend(['Testing Predictions', 'Testing Observations'])"
      ]
    },
    {
      "cell_type": "code",
      "execution_count": null,
      "metadata": {
        "colab": {
          "base_uri": "https://localhost:8080/",
          "height": 282
        },
        "id": "8b-JsTvEWfAm",
        "outputId": "cc1c41c8-8b8f-48f0-9d99-74edd0865b96"
      },
      "outputs": [
        {
          "output_type": "execute_result",
          "data": {
            "text/plain": [
              "<matplotlib.legend.Legend at 0x7f482fbe7650>"
            ]
          },
          "metadata": {},
          "execution_count": 82
        },
        {
          "output_type": "display_data",
          "data": {
            "text/plain": [
              "<Figure size 432x288 with 1 Axes>"
            ],
            "image/png": "[encoded data removed]"
          },
          "metadata": {
            "needs_background": "light"
          }
        }
      ],
      "source": [
        "plt.plot(dates_train, train_predictions)\n",
        "plt.plot(dates_train, y_train)\n",
        "plt.plot(dates_val, val_predictions)\n",
        "plt.plot(dates_val, y_val)\n",
        "plt.plot(dates_test, test_predictions)\n",
        "plt.plot(dates_test, y_test)\n",
        "plt.legend(['Training Predictions', \n",
        "            'Training Observations',\n",
        "            'Validation Predictions', \n",
        "            'Validation Observations',\n",
        "            'Testing Predictions', \n",
        "            'Testing Observations'])"
      ]
    },
    {
      "cell_type": "code",
      "execution_count": null,
      "metadata": {
        "id": "qb0ryudqWwkf"
      },
      "outputs": [],
      "source": [
        "from copy import deepcopy\n",
        "\n",
        "recursive_predictions = []\n",
        "recursive_dates = np.concatenate([dates_val, dates_test])\n",
        "\n",
        "for target_date in recursive_dates:\n",
        "  last_window = deepcopy(X_train[-1])\n",
        "  next_prediction = model.predict(np.array([last_window])).flatten()\n",
        "  recursive_predictions.append(next_prediction)\n",
        "  last_window[-1] = next_prediction"
      ]
    },
    {
      "cell_type": "code",
      "execution_count": null,
      "metadata": {
        "colab": {
          "base_uri": "https://localhost:8080/",
          "height": 282
        },
        "id": "6BEMkYmtbwkg",
        "outputId": "07beafe1-6474-44c6-e938-7cad11b219fc"
      },
      "outputs": [
        {
          "output_type": "execute_result",
          "data": {
            "text/plain": [
              "<matplotlib.legend.Legend at 0x7f483772e050>"
            ]
          },
          "metadata": {},
          "execution_count": 57
        },
        {
          "output_type": "display_data",
          "data": {
            "text/plain": [
              "<Figure size 432x288 with 1 Axes>"
            ],
            "image/png": "[encoded data removed]"
          },
          "metadata": {
            "needs_background": "light"
          }
        }
      ],
      "source": [
        "plt.plot(dates_train, train_predictions)\n",
        "plt.plot(dates_train, y_train)\n",
        "plt.plot(dates_val, val_predictions)\n",
        "plt.plot(dates_val, y_val)\n",
        "plt.plot(dates_test, test_predictions)\n",
        "plt.plot(dates_test, y_test)\n",
        "plt.plot(recursive_dates, recursive_predictions)\n",
        "plt.legend(['Training Predictions', \n",
        "            'Training Observations',\n",
        "            'Validation Predictions', \n",
        "            'Validation Observations',\n",
        "            'Testing Predictions', \n",
        "            'Testing Observations',\n",
        "            'Recursive Predictions'])"
      ]
    },
    {
      "cell_type": "markdown",
      "source": [
        "Polynomial Regression"
      ],
      "metadata": {
        "id": "MThQxYo9rkt8"
      }
    },
    {
      "cell_type": "code",
      "execution_count": null,
      "metadata": {
        "id": "zhWT0Pd-b4ab"
      },
      "outputs": [],
      "source": [
        ""
      ]
    }
  ],
  "metadata": {
    "colab": {
      "collapsed_sections": [],
      "name": "LSTM",
      "provenance": [],
      "toc_visible": true,
      "include_colab_link": true
    },
    "kernelspec": {
      "display_name": "Python 3",
      "name": "python3"
    },
    "language_info": {
      "name": "python"
    }
  },
  "nbformat": 4,
  "nbformat_minor": 0
}